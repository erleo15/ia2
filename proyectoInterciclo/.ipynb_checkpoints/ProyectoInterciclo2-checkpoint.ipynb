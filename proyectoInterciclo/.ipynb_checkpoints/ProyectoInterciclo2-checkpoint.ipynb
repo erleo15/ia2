{
 "cells": [
  {
   "cell_type": "code",
   "execution_count": 1,
   "metadata": {},
   "outputs": [
    {
     "name": "stderr",
     "output_type": "stream",
     "text": [
      "Using TensorFlow backend.\n"
     ]
    }
   ],
   "source": [
    "import pandas as pd;\n",
    "import numpy as np;\n",
    "from matplotlib import pyplot as pp\n",
    "\n",
    "from PIL import Image # Importamos la clase Image de la librería **pillow**\n",
    "from matplotlib import image\n",
    "from random import randint\n",
    "import os\n",
    "import pathlib\n",
    "\n",
    "from sklearn.preprocessing import StandardScaler, OneHotEncoder\n",
    "from sklearn.model_selection import train_test_split\n",
    "from sklearn.metrics import accuracy_score\n",
    "\n",
    "import keras\n",
    "from keras.models import Sequential # Es una RNA que tiene conexión hacia adelante\n",
    "from keras.layers import Dense # Representa las capas de la RNA\n",
    "\n",
    "\n",
    "#################\n",
    "from keras.utils import to_categorical\n",
    "from keras.models import Sequential,Input,Model\n",
    "from keras.layers import Dense, Dropout, Flatten\n",
    "from keras.layers import Conv2D, MaxPooling2D\n",
    "from keras.layers.normalization import BatchNormalization\n",
    "from keras.layers.advanced_activations import LeakyReLU\n",
    "%matplotlib inline"
   ]
  },
  {
   "cell_type": "code",
   "execution_count": 2,
   "metadata": {},
   "outputs": [],
   "source": [
    "def obtenerVector(imagen):\n",
    "    #imagenpp = image.imread(imagen)\n",
    "    data = np.asarray(image.imread(imagen))   \n",
    "    return [value for row in data for value in row]\n",
    "    "
   ]
  },
  {
   "cell_type": "code",
   "execution_count": null,
   "metadata": {},
   "outputs": [
    {
     "name": "stdout",
     "output_type": "stream",
     "text": [
      "1 character_10_yna\n",
      "2 character_11_taamatar\n",
      "3 character_12_thaa\n",
      "4 character_13_daa\n",
      "5 character_14_dhaa\n",
      "6 character_15_adna\n",
      "7 character_16_tabala\n",
      "8 character_17_tha\n",
      "9 character_18_da\n",
      "10 character_19_dha\n",
      "11 character_1_ka\n",
      "12 character_20_na\n",
      "13 character_21_pa\n",
      "14 character_22_pha\n"
     ]
    }
   ],
   "source": [
    "from time import time\n",
    "path = 'corpus/'\n",
    "carpetas = os.listdir(path)#lista de carpetas dentro de nuestro dataset\n",
    "numImagenes = sum([len(os.listdir(path+i)) for i in carpetas])\n",
    "columnas = [i for i in range(1024)]\n",
    "index = [i for i in range(numImagenes)]\n",
    "df = pd.DataFrame(columns = columnas+['salida'], index = index)\n",
    "start_time = time()\n",
    "i = 0\n",
    "j = 0\n",
    "for carpeta in carpetas:\n",
    "    for imagen in os.listdir(path+carpeta): \n",
    "        #filas,columnas\n",
    "        imgPath = path+carpeta+'/'+imagen;\n",
    "        #df.iloc[j:j+1, i:i+1]=str(obtenerVector(imgPath))#directorio+'/'+imagen\n",
    "        filaImagen = obtenerVector(imgPath)\n",
    "        #df.iloc[j] = filaImagen+[carpeta];\n",
    "        df.loc[j] = filaImagen+[carpeta]\n",
    "        filaImagen=[]\n",
    "        j+=1;\n",
    "    i+=1;\n",
    "    print(i,carpeta);\n",
    "elapsed_time = time() - start_time\n",
    "print(\"Elapsed time: %0.10f seconds.\" % elapsed_time)\n",
    "df"
   ]
  },
  {
   "cell_type": "code",
   "execution_count": null,
   "metadata": {
    "scrolled": true
   },
   "outputs": [],
   "source": [
    "#df.iloc[0:1, 1:2]='1'\n",
    "#df.iloc[0:1, 1:3]\n",
    "#for i in df['digit_9']:\n",
    "#    print (i); le lleno con el nombre de las carpetas la salida pero eso no cale bien :'v'\n",
    "#df['salida']=carpetas+['digit_9' for i in range(nfilas-len(carpetas))]\n",
    "df.iloc[:, len(columnas)] = df.iloc[:, len(columnas)].astype('category').cat.codes\n",
    "df"
   ]
  },
  {
   "cell_type": "code",
   "execution_count": null,
   "metadata": {},
   "outputs": [],
   "source": [
    "scaler = StandardScaler()\n",
    "\n",
    "x = df.iloc[:, 0:len(columnas)].values\n",
    "#x = to_categorical(x)\n",
    "x = scaler.fit_transform(x)\n",
    "x"
   ]
  },
  {
   "cell_type": "code",
   "execution_count": null,
   "metadata": {},
   "outputs": [],
   "source": [
    "y = df.iloc[:, len(columnas):len(columnas)+1].values\n",
    "encoder = OneHotEncoder()\n",
    "y = encoder.fit_transform(y).toarray()\n",
    "#y = to_categorical(y)"
   ]
  },
  {
   "cell_type": "code",
   "execution_count": null,
   "metadata": {},
   "outputs": [],
   "source": [
    "x_train, x_test, y_train, y_test = train_test_split(x, y, test_size = 0.2, stratify = y)"
   ]
  },
  {
   "cell_type": "code",
   "execution_count": null,
   "metadata": {},
   "outputs": [],
   "source": [
    "len(x_train)"
   ]
  },
  {
   "cell_type": "code",
   "execution_count": null,
   "metadata": {
    "scrolled": true
   },
   "outputs": [
    {
     "name": "stdout",
     "output_type": "stream",
     "text": [
      "Train on 62560 samples, validate on 15640 samples\n",
      "Epoch 1/35\n",
      "62560/62560 [==============================] - 18s 288us/step - loss: 2.6193 - accuracy: 0.2814 - val_loss: 1.8582 - val_accuracy: 0.4547\n",
      "Epoch 2/35\n",
      "62560/62560 [==============================] - 18s 295us/step - loss: 1.4516 - accuracy: 0.5730 - val_loss: 1.2168 - val_accuracy: 0.6520\n",
      "Epoch 3/35\n",
      "62560/62560 [==============================] - 18s 292us/step - loss: 0.9656 - accuracy: 0.7194 - val_loss: 0.9533 - val_accuracy: 0.7312\n",
      "Epoch 4/35\n",
      "62560/62560 [==============================] - 18s 294us/step - loss: 0.7289 - accuracy: 0.7848 - val_loss: 0.8519 - val_accuracy: 0.7584\n",
      "Epoch 5/35\n",
      "62560/62560 [==============================] - 18s 293us/step - loss: 0.5853 - accuracy: 0.8266 - val_loss: 0.8259 - val_accuracy: 0.7859\n",
      "Epoch 6/35\n",
      "62560/62560 [==============================] - 18s 288us/step - loss: 0.4899 - accuracy: 0.8535 - val_loss: 0.7611 - val_accuracy: 0.8057\n",
      "Epoch 7/35\n",
      "62560/62560 [==============================] - 18s 287us/step - loss: 0.4157 - accuracy: 0.8750 - val_loss: 0.7835 - val_accuracy: 0.8015\n",
      "Epoch 8/35\n",
      "62560/62560 [==============================] - 18s 287us/step - loss: 0.3681 - accuracy: 0.8870 - val_loss: 0.7696 - val_accuracy: 0.8117\n",
      "Epoch 9/35\n",
      "62560/62560 [==============================] - 18s 286us/step - loss: 0.3264 - accuracy: 0.9010 - val_loss: 0.7384 - val_accuracy: 0.8199\n",
      "Epoch 10/35\n",
      "62560/62560 [==============================] - 18s 286us/step - loss: 0.2851 - accuracy: 0.9127 - val_loss: 0.7753 - val_accuracy: 0.8246\n",
      "Epoch 11/35\n",
      "62560/62560 [==============================] - 18s 288us/step - loss: 0.2658 - accuracy: 0.9177 - val_loss: 0.7700 - val_accuracy: 0.8258\n",
      "Epoch 12/35\n",
      "62560/62560 [==============================] - 18s 287us/step - loss: 0.2366 - accuracy: 0.9267 - val_loss: 0.8302 - val_accuracy: 0.8213\n",
      "Epoch 13/35\n",
      "62560/62560 [==============================] - 18s 287us/step - loss: 0.2207 - accuracy: 0.9335 - val_loss: 0.8177 - val_accuracy: 0.8305\n",
      "Epoch 14/35\n",
      "62560/62560 [==============================] - 18s 287us/step - loss: 0.2033 - accuracy: 0.9373 - val_loss: 0.8414 - val_accuracy: 0.8272\n",
      "Epoch 15/35\n",
      "62560/62560 [==============================] - 18s 287us/step - loss: 0.1847 - accuracy: 0.9419 - val_loss: 0.8352 - val_accuracy: 0.8322\n",
      "Epoch 16/35\n",
      "62560/62560 [==============================] - 18s 287us/step - loss: 0.1895 - accuracy: 0.9425 - val_loss: 0.8807 - val_accuracy: 0.8320\n",
      "Epoch 17/35\n",
      "62560/62560 [==============================] - 18s 287us/step - loss: 0.1628 - accuracy: 0.9498 - val_loss: 0.9554 - val_accuracy: 0.8247\n",
      "Epoch 18/35\n",
      "62560/62560 [==============================] - 18s 288us/step - loss: 0.1575 - accuracy: 0.9512 - val_loss: 0.8891 - val_accuracy: 0.8375\n",
      "Epoch 19/35\n",
      "62560/62560 [==============================] - 18s 286us/step - loss: 0.1459 - accuracy: 0.9547 - val_loss: 0.9534 - val_accuracy: 0.8336\n",
      "Epoch 20/35\n",
      "62560/62560 [==============================] - 18s 286us/step - loss: 0.1548 - accuracy: 0.9526 - val_loss: 0.9165 - val_accuracy: 0.8359\n",
      "Epoch 21/35\n",
      "62560/62560 [==============================] - 18s 286us/step - loss: 0.1308 - accuracy: 0.9596 - val_loss: 0.9859 - val_accuracy: 0.8327\n",
      "Epoch 22/35\n",
      "62560/62560 [==============================] - 18s 291us/step - loss: 0.1382 - accuracy: 0.9583 - val_loss: 0.9777 - val_accuracy: 0.8343\n",
      "Epoch 23/35\n",
      "62560/62560 [==============================] - 18s 294us/step - loss: 0.1183 - accuracy: 0.9636 - val_loss: 1.0308 - val_accuracy: 0.8287\n",
      "Epoch 24/35\n",
      "62560/62560 [==============================] - 18s 294us/step - loss: 0.1325 - accuracy: 0.9599 - val_loss: 1.0574 - val_accuracy: 0.8314\n",
      "Epoch 25/35\n",
      "62560/62560 [==============================] - 18s 293us/step - loss: 0.1161 - accuracy: 0.9649 - val_loss: 0.9893 - val_accuracy: 0.8434\n",
      "Epoch 26/35\n",
      "62560/62560 [==============================] - 18s 295us/step - loss: 0.1077 - accuracy: 0.9666 - val_loss: 1.0327 - val_accuracy: 0.8401\n",
      "Epoch 27/35\n",
      "62560/62560 [==============================] - 18s 292us/step - loss: 0.1172 - accuracy: 0.9646 - val_loss: 1.0757 - val_accuracy: 0.8330\n",
      "Epoch 28/35\n",
      "62560/62560 [==============================] - 18s 292us/step - loss: 0.1135 - accuracy: 0.9658 - val_loss: 0.9746 - val_accuracy: 0.8449\n",
      "Epoch 29/35\n",
      "62560/62560 [==============================] - 18s 295us/step - loss: 0.0994 - accuracy: 0.9694 - val_loss: 1.1131 - val_accuracy: 0.8372\n",
      "Epoch 30/35\n",
      "62560/62560 [==============================] - 18s 290us/step - loss: 0.1060 - accuracy: 0.9680 - val_loss: 1.0239 - val_accuracy: 0.8442\n",
      "Epoch 31/35\n",
      "62560/62560 [==============================] - 18s 290us/step - loss: 0.0930 - accuracy: 0.9723 - val_loss: 1.1262 - val_accuracy: 0.8344\n",
      "Epoch 32/35\n",
      "62560/62560 [==============================] - 18s 294us/step - loss: 0.1020 - accuracy: 0.9690 - val_loss: 1.1497 - val_accuracy: 0.8336\n",
      "Epoch 33/35\n",
      "59968/62560 [===========================>..] - ETA: 0s - loss: 0.0928 - accuracy: 0.9729"
     ]
    }
   ],
   "source": [
    "model = Sequential()\n",
    "model.add(Dense(1024, input_dim = 1024, activation = 'relu'))\n",
    "model.add(Dense(10, activation = 'relu'))\n",
    "model.add(Dense(5, activation = 'relu'))\n",
    "model.add(Dense(46, activation = 'softmax'))#Salidas\n",
    "\n",
    "model.compile(loss = 'categorical_crossentropy', optimizer = 'adam', metrics = ['accuracy']) # Precisión\n",
    "historial = model.fit(x_train, y_train, validation_data = (x_test, y_test), epochs = 35, batch_size = 64)"
   ]
  },
  {
   "cell_type": "code",
   "execution_count": 45,
   "metadata": {},
   "outputs": [
    {
     "name": "stdout",
     "output_type": "stream",
     "text": [
      "Precisión:  81.01662404092072\n"
     ]
    }
   ],
   "source": [
    "y_pred = model.predict(x_test)\n",
    "\n",
    "pred = list()\n",
    "for i in range(len(y_pred)):\n",
    "    pred.append(np.argmax(y_pred[i]))\n",
    "    \n",
    "test = list()\n",
    "for i in range(len(y_test)):\n",
    "    test.append(np.argmax(y_test[i]))\n",
    "    \n",
    "    \n",
    "precision = accuracy_score(pred, test) # Comparamos lo que predijo la red con las salidas deseadas\n",
    "print('Precisión: ',(precision*100))"
   ]
  },
  {
   "cell_type": "code",
   "execution_count": null,
   "metadata": {},
   "outputs": [],
   "source": []
  }
 ],
 "metadata": {
  "kernelspec": {
   "display_name": "Python 3",
   "language": "python",
   "name": "python3"
  },
  "language_info": {
   "codemirror_mode": {
    "name": "ipython",
    "version": 3
   },
   "file_extension": ".py",
   "mimetype": "text/x-python",
   "name": "python",
   "nbconvert_exporter": "python",
   "pygments_lexer": "ipython3",
   "version": "3.7.6"
  }
 },
 "nbformat": 4,
 "nbformat_minor": 4
}
