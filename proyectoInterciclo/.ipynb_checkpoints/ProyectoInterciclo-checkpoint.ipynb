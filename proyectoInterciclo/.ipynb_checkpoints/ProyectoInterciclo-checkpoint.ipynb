{
 "cells": [
  {
   "cell_type": "code",
   "execution_count": 1,
   "metadata": {},
   "outputs": [
    {
     "name": "stderr",
     "output_type": "stream",
     "text": [
      "Using TensorFlow backend.\n"
     ]
    }
   ],
   "source": [
    "import tensorflow;\n",
    "import pandas as pd;\n",
    "import numpy as np;\n",
    "from matplotlib import pyplot as pp\n",
    "\n",
    "from PIL import Image # Importamos la clase Image de la librería **pillow**\n",
    "from matplotlib import image\n",
    "from random import randint\n",
    "import os\n",
    "import pathlib\n",
    "\n",
    "from sklearn.preprocessing import StandardScaler, OneHotEncoder\n",
    "from sklearn.model_selection import train_test_split\n",
    "from sklearn.metrics import accuracy_score\n",
    "\n",
    "import keras\n",
    "from keras.models import Sequential # Es una RNA que tiene conexión hacia adelante\n",
    "from keras.layers import Dense # Representa las capas de la RNA\n",
    "from sklearn.metrics import confusion_matrix\n",
    "\n",
    "\n",
    "#################\n",
    "from keras.utils import to_categorical\n",
    "from keras.models import Sequential,Input,Model\n",
    "from keras.layers import Dense, Dropout, Flatten\n",
    "from keras.layers import Conv2D, MaxPooling2D\n",
    "from keras.layers.normalization import BatchNormalization\n",
    "from keras.layers.advanced_activations import LeakyReLU\n",
    "%matplotlib inline"
   ]
  },
  {
   "cell_type": "code",
   "execution_count": 2,
   "metadata": {},
   "outputs": [],
   "source": [
    "def obtenerVector(imagen):\n",
    "    #imagenpp = image.imread(imagen)\n",
    "    data = np.asarray(image.imread(imagen))   \n",
    "    return [value for row in data for value in row]\n",
    "    "
   ]
  },
  {
   "cell_type": "code",
   "execution_count": 3,
   "metadata": {},
   "outputs": [
    {
     "name": "stdout",
     "output_type": "stream",
     "text": [
      "1 character_10_yna\n",
      "2 character_11_taamatar\n",
      "3 character_12_thaa\n",
      "4 character_13_daa\n",
      "5 character_14_dhaa\n",
      "6 character_15_adna\n",
      "7 character_16_tabala\n",
      "8 character_17_tha\n",
      "9 character_18_da\n",
      "10 character_19_dha\n",
      "11 character_1_ka\n",
      "12 character_20_na\n",
      "13 character_21_pa\n",
      "14 character_22_pha\n",
      "15 character_23_ba\n",
      "16 character_24_bha\n",
      "17 character_25_ma\n",
      "18 character_26_yaw\n",
      "19 character_27_ra\n",
      "20 character_28_la\n",
      "21 character_29_waw\n",
      "22 character_2_kha\n",
      "23 character_30_motosaw\n",
      "24 character_31_petchiryakha\n",
      "25 character_32_patalosaw\n",
      "26 character_33_ha\n",
      "27 character_34_chhya\n",
      "28 character_35_tra\n",
      "29 character_36_gya\n",
      "30 character_3_ga\n",
      "31 character_4_gha\n",
      "32 character_5_kna\n",
      "33 character_6_cha\n",
      "34 character_7_chha\n",
      "35 character_8_ja\n",
      "36 character_9_jha\n",
      "37 digit_0\n",
      "38 digit_1\n",
      "39 digit_2\n",
      "40 digit_3\n",
      "41 digit_4\n",
      "42 digit_5\n",
      "43 digit_6\n",
      "44 digit_7\n",
      "45 digit_8\n",
      "46 digit_9\n",
      "Elapsed time: 167.8226273060 seconds.\n"
     ]
    },
    {
     "data": {
      "text/html": [
       "<div>\n",
       "<style scoped>\n",
       "    .dataframe tbody tr th:only-of-type {\n",
       "        vertical-align: middle;\n",
       "    }\n",
       "\n",
       "    .dataframe tbody tr th {\n",
       "        vertical-align: top;\n",
       "    }\n",
       "\n",
       "    .dataframe thead th {\n",
       "        text-align: right;\n",
       "    }\n",
       "</style>\n",
       "<table border=\"1\" class=\"dataframe\">\n",
       "  <thead>\n",
       "    <tr style=\"text-align: right;\">\n",
       "      <th></th>\n",
       "      <th>0</th>\n",
       "      <th>1</th>\n",
       "      <th>2</th>\n",
       "      <th>3</th>\n",
       "      <th>4</th>\n",
       "      <th>5</th>\n",
       "      <th>6</th>\n",
       "      <th>7</th>\n",
       "      <th>8</th>\n",
       "      <th>9</th>\n",
       "      <th>...</th>\n",
       "      <th>1015</th>\n",
       "      <th>1016</th>\n",
       "      <th>1017</th>\n",
       "      <th>1018</th>\n",
       "      <th>1019</th>\n",
       "      <th>1020</th>\n",
       "      <th>1021</th>\n",
       "      <th>1022</th>\n",
       "      <th>1023</th>\n",
       "      <th>salida</th>\n",
       "    </tr>\n",
       "  </thead>\n",
       "  <tbody>\n",
       "    <tr>\n",
       "      <th>0</th>\n",
       "      <td>0</td>\n",
       "      <td>0</td>\n",
       "      <td>0</td>\n",
       "      <td>0</td>\n",
       "      <td>0</td>\n",
       "      <td>0</td>\n",
       "      <td>0</td>\n",
       "      <td>0</td>\n",
       "      <td>0</td>\n",
       "      <td>0</td>\n",
       "      <td>...</td>\n",
       "      <td>0</td>\n",
       "      <td>0</td>\n",
       "      <td>0</td>\n",
       "      <td>0</td>\n",
       "      <td>0</td>\n",
       "      <td>0</td>\n",
       "      <td>0</td>\n",
       "      <td>0</td>\n",
       "      <td>0</td>\n",
       "      <td>character_10_yna</td>\n",
       "    </tr>\n",
       "    <tr>\n",
       "      <th>1</th>\n",
       "      <td>0</td>\n",
       "      <td>0</td>\n",
       "      <td>0</td>\n",
       "      <td>0</td>\n",
       "      <td>0</td>\n",
       "      <td>0</td>\n",
       "      <td>0</td>\n",
       "      <td>0</td>\n",
       "      <td>0</td>\n",
       "      <td>0</td>\n",
       "      <td>...</td>\n",
       "      <td>0</td>\n",
       "      <td>0</td>\n",
       "      <td>0</td>\n",
       "      <td>0</td>\n",
       "      <td>0</td>\n",
       "      <td>0</td>\n",
       "      <td>0</td>\n",
       "      <td>0</td>\n",
       "      <td>0</td>\n",
       "      <td>character_10_yna</td>\n",
       "    </tr>\n",
       "    <tr>\n",
       "      <th>2</th>\n",
       "      <td>0</td>\n",
       "      <td>0</td>\n",
       "      <td>0</td>\n",
       "      <td>0</td>\n",
       "      <td>0</td>\n",
       "      <td>0</td>\n",
       "      <td>0</td>\n",
       "      <td>0</td>\n",
       "      <td>0</td>\n",
       "      <td>0</td>\n",
       "      <td>...</td>\n",
       "      <td>0</td>\n",
       "      <td>0</td>\n",
       "      <td>0</td>\n",
       "      <td>0</td>\n",
       "      <td>0</td>\n",
       "      <td>0</td>\n",
       "      <td>0</td>\n",
       "      <td>0</td>\n",
       "      <td>0</td>\n",
       "      <td>character_10_yna</td>\n",
       "    </tr>\n",
       "    <tr>\n",
       "      <th>3</th>\n",
       "      <td>0</td>\n",
       "      <td>0</td>\n",
       "      <td>0</td>\n",
       "      <td>0</td>\n",
       "      <td>0</td>\n",
       "      <td>0</td>\n",
       "      <td>0</td>\n",
       "      <td>0</td>\n",
       "      <td>0</td>\n",
       "      <td>0</td>\n",
       "      <td>...</td>\n",
       "      <td>0</td>\n",
       "      <td>0</td>\n",
       "      <td>0</td>\n",
       "      <td>0</td>\n",
       "      <td>0</td>\n",
       "      <td>0</td>\n",
       "      <td>0</td>\n",
       "      <td>0</td>\n",
       "      <td>0</td>\n",
       "      <td>character_10_yna</td>\n",
       "    </tr>\n",
       "    <tr>\n",
       "      <th>4</th>\n",
       "      <td>0</td>\n",
       "      <td>0</td>\n",
       "      <td>0</td>\n",
       "      <td>0</td>\n",
       "      <td>0</td>\n",
       "      <td>0</td>\n",
       "      <td>0</td>\n",
       "      <td>0</td>\n",
       "      <td>0</td>\n",
       "      <td>0</td>\n",
       "      <td>...</td>\n",
       "      <td>0</td>\n",
       "      <td>0</td>\n",
       "      <td>0</td>\n",
       "      <td>0</td>\n",
       "      <td>0</td>\n",
       "      <td>0</td>\n",
       "      <td>0</td>\n",
       "      <td>0</td>\n",
       "      <td>0</td>\n",
       "      <td>character_10_yna</td>\n",
       "    </tr>\n",
       "    <tr>\n",
       "      <th>...</th>\n",
       "      <td>...</td>\n",
       "      <td>...</td>\n",
       "      <td>...</td>\n",
       "      <td>...</td>\n",
       "      <td>...</td>\n",
       "      <td>...</td>\n",
       "      <td>...</td>\n",
       "      <td>...</td>\n",
       "      <td>...</td>\n",
       "      <td>...</td>\n",
       "      <td>...</td>\n",
       "      <td>...</td>\n",
       "      <td>...</td>\n",
       "      <td>...</td>\n",
       "      <td>...</td>\n",
       "      <td>...</td>\n",
       "      <td>...</td>\n",
       "      <td>...</td>\n",
       "      <td>...</td>\n",
       "      <td>...</td>\n",
       "      <td>...</td>\n",
       "    </tr>\n",
       "    <tr>\n",
       "      <th>78195</th>\n",
       "      <td>0</td>\n",
       "      <td>0</td>\n",
       "      <td>0</td>\n",
       "      <td>0</td>\n",
       "      <td>0</td>\n",
       "      <td>0</td>\n",
       "      <td>0</td>\n",
       "      <td>0</td>\n",
       "      <td>0</td>\n",
       "      <td>0</td>\n",
       "      <td>...</td>\n",
       "      <td>0</td>\n",
       "      <td>0</td>\n",
       "      <td>0</td>\n",
       "      <td>0</td>\n",
       "      <td>0</td>\n",
       "      <td>0</td>\n",
       "      <td>0</td>\n",
       "      <td>0</td>\n",
       "      <td>0</td>\n",
       "      <td>digit_9</td>\n",
       "    </tr>\n",
       "    <tr>\n",
       "      <th>78196</th>\n",
       "      <td>0</td>\n",
       "      <td>0</td>\n",
       "      <td>0</td>\n",
       "      <td>0</td>\n",
       "      <td>0</td>\n",
       "      <td>0</td>\n",
       "      <td>0</td>\n",
       "      <td>0</td>\n",
       "      <td>0</td>\n",
       "      <td>0</td>\n",
       "      <td>...</td>\n",
       "      <td>0</td>\n",
       "      <td>0</td>\n",
       "      <td>0</td>\n",
       "      <td>0</td>\n",
       "      <td>0</td>\n",
       "      <td>0</td>\n",
       "      <td>0</td>\n",
       "      <td>0</td>\n",
       "      <td>0</td>\n",
       "      <td>digit_9</td>\n",
       "    </tr>\n",
       "    <tr>\n",
       "      <th>78197</th>\n",
       "      <td>0</td>\n",
       "      <td>0</td>\n",
       "      <td>0</td>\n",
       "      <td>0</td>\n",
       "      <td>0</td>\n",
       "      <td>0</td>\n",
       "      <td>0</td>\n",
       "      <td>0</td>\n",
       "      <td>0</td>\n",
       "      <td>0</td>\n",
       "      <td>...</td>\n",
       "      <td>0</td>\n",
       "      <td>0</td>\n",
       "      <td>0</td>\n",
       "      <td>0</td>\n",
       "      <td>0</td>\n",
       "      <td>0</td>\n",
       "      <td>0</td>\n",
       "      <td>0</td>\n",
       "      <td>0</td>\n",
       "      <td>digit_9</td>\n",
       "    </tr>\n",
       "    <tr>\n",
       "      <th>78198</th>\n",
       "      <td>0</td>\n",
       "      <td>0</td>\n",
       "      <td>0</td>\n",
       "      <td>0</td>\n",
       "      <td>0</td>\n",
       "      <td>0</td>\n",
       "      <td>0</td>\n",
       "      <td>0</td>\n",
       "      <td>0</td>\n",
       "      <td>0</td>\n",
       "      <td>...</td>\n",
       "      <td>0</td>\n",
       "      <td>0</td>\n",
       "      <td>0</td>\n",
       "      <td>0</td>\n",
       "      <td>0</td>\n",
       "      <td>0</td>\n",
       "      <td>0</td>\n",
       "      <td>0</td>\n",
       "      <td>0</td>\n",
       "      <td>digit_9</td>\n",
       "    </tr>\n",
       "    <tr>\n",
       "      <th>78199</th>\n",
       "      <td>0</td>\n",
       "      <td>0</td>\n",
       "      <td>0</td>\n",
       "      <td>0</td>\n",
       "      <td>0</td>\n",
       "      <td>0</td>\n",
       "      <td>0</td>\n",
       "      <td>0</td>\n",
       "      <td>0</td>\n",
       "      <td>0</td>\n",
       "      <td>...</td>\n",
       "      <td>0</td>\n",
       "      <td>0</td>\n",
       "      <td>0</td>\n",
       "      <td>0</td>\n",
       "      <td>0</td>\n",
       "      <td>0</td>\n",
       "      <td>0</td>\n",
       "      <td>0</td>\n",
       "      <td>0</td>\n",
       "      <td>digit_9</td>\n",
       "    </tr>\n",
       "  </tbody>\n",
       "</table>\n",
       "<p>78200 rows × 1025 columns</p>\n",
       "</div>"
      ],
      "text/plain": [
       "       0  1  2  3  4  5  6  7  8  9  ... 1015 1016 1017 1018 1019 1020 1021  \\\n",
       "0      0  0  0  0  0  0  0  0  0  0  ...    0    0    0    0    0    0    0   \n",
       "1      0  0  0  0  0  0  0  0  0  0  ...    0    0    0    0    0    0    0   \n",
       "2      0  0  0  0  0  0  0  0  0  0  ...    0    0    0    0    0    0    0   \n",
       "3      0  0  0  0  0  0  0  0  0  0  ...    0    0    0    0    0    0    0   \n",
       "4      0  0  0  0  0  0  0  0  0  0  ...    0    0    0    0    0    0    0   \n",
       "...   .. .. .. .. .. .. .. .. .. ..  ...  ...  ...  ...  ...  ...  ...  ...   \n",
       "78195  0  0  0  0  0  0  0  0  0  0  ...    0    0    0    0    0    0    0   \n",
       "78196  0  0  0  0  0  0  0  0  0  0  ...    0    0    0    0    0    0    0   \n",
       "78197  0  0  0  0  0  0  0  0  0  0  ...    0    0    0    0    0    0    0   \n",
       "78198  0  0  0  0  0  0  0  0  0  0  ...    0    0    0    0    0    0    0   \n",
       "78199  0  0  0  0  0  0  0  0  0  0  ...    0    0    0    0    0    0    0   \n",
       "\n",
       "      1022 1023            salida  \n",
       "0        0    0  character_10_yna  \n",
       "1        0    0  character_10_yna  \n",
       "2        0    0  character_10_yna  \n",
       "3        0    0  character_10_yna  \n",
       "4        0    0  character_10_yna  \n",
       "...    ...  ...               ...  \n",
       "78195    0    0           digit_9  \n",
       "78196    0    0           digit_9  \n",
       "78197    0    0           digit_9  \n",
       "78198    0    0           digit_9  \n",
       "78199    0    0           digit_9  \n",
       "\n",
       "[78200 rows x 1025 columns]"
      ]
     },
     "execution_count": 3,
     "metadata": {},
     "output_type": "execute_result"
    }
   ],
   "source": [
    "from time import time\n",
    "path = 'corpus/'\n",
    "carpetas = os.listdir(path)#lista de carpetas dentro de nuestro dataset\n",
    "numImagenes = sum([len(os.listdir(path+i)) for i in carpetas])\n",
    "columnas = [i for i in range(1024)]\n",
    "index = [i for i in range(numImagenes)]\n",
    "df = pd.DataFrame(columns = columnas+['salida'], index = index)\n",
    "start_time = time()\n",
    "i = 0\n",
    "j = 0\n",
    "for carpeta in carpetas:\n",
    "    for imagen in os.listdir(path+carpeta): \n",
    "        #filas,columnas\n",
    "        imgPath = path+carpeta+'/'+imagen;\n",
    "        #df.iloc[j:j+1, i:i+1]=str(obtenerVector(imgPath))#directorio+'/'+imagen\n",
    "        filaImagen = obtenerVector(imgPath)\n",
    "        #df.iloc[j] = filaImagen+[carpeta];\n",
    "        df.loc[j] = filaImagen+[carpeta]\n",
    "        filaImagen=[]\n",
    "        j+=1;\n",
    "    i+=1;\n",
    "    print(i,carpeta);\n",
    "elapsed_time = time() - start_time\n",
    "print(\"Elapsed time: %0.10f seconds.\" % elapsed_time)\n",
    "df"
   ]
  },
  {
   "cell_type": "code",
   "execution_count": 4,
   "metadata": {
    "scrolled": true
   },
   "outputs": [
    {
     "data": {
      "text/html": [
       "<div>\n",
       "<style scoped>\n",
       "    .dataframe tbody tr th:only-of-type {\n",
       "        vertical-align: middle;\n",
       "    }\n",
       "\n",
       "    .dataframe tbody tr th {\n",
       "        vertical-align: top;\n",
       "    }\n",
       "\n",
       "    .dataframe thead th {\n",
       "        text-align: right;\n",
       "    }\n",
       "</style>\n",
       "<table border=\"1\" class=\"dataframe\">\n",
       "  <thead>\n",
       "    <tr style=\"text-align: right;\">\n",
       "      <th></th>\n",
       "      <th>0</th>\n",
       "      <th>1</th>\n",
       "      <th>2</th>\n",
       "      <th>3</th>\n",
       "      <th>4</th>\n",
       "      <th>5</th>\n",
       "      <th>6</th>\n",
       "      <th>7</th>\n",
       "      <th>8</th>\n",
       "      <th>9</th>\n",
       "      <th>...</th>\n",
       "      <th>1015</th>\n",
       "      <th>1016</th>\n",
       "      <th>1017</th>\n",
       "      <th>1018</th>\n",
       "      <th>1019</th>\n",
       "      <th>1020</th>\n",
       "      <th>1021</th>\n",
       "      <th>1022</th>\n",
       "      <th>1023</th>\n",
       "      <th>salida</th>\n",
       "    </tr>\n",
       "  </thead>\n",
       "  <tbody>\n",
       "    <tr>\n",
       "      <th>0</th>\n",
       "      <td>0</td>\n",
       "      <td>0</td>\n",
       "      <td>0</td>\n",
       "      <td>0</td>\n",
       "      <td>0</td>\n",
       "      <td>0</td>\n",
       "      <td>0</td>\n",
       "      <td>0</td>\n",
       "      <td>0</td>\n",
       "      <td>0</td>\n",
       "      <td>...</td>\n",
       "      <td>0</td>\n",
       "      <td>0</td>\n",
       "      <td>0</td>\n",
       "      <td>0</td>\n",
       "      <td>0</td>\n",
       "      <td>0</td>\n",
       "      <td>0</td>\n",
       "      <td>0</td>\n",
       "      <td>0</td>\n",
       "      <td>0</td>\n",
       "    </tr>\n",
       "    <tr>\n",
       "      <th>1</th>\n",
       "      <td>0</td>\n",
       "      <td>0</td>\n",
       "      <td>0</td>\n",
       "      <td>0</td>\n",
       "      <td>0</td>\n",
       "      <td>0</td>\n",
       "      <td>0</td>\n",
       "      <td>0</td>\n",
       "      <td>0</td>\n",
       "      <td>0</td>\n",
       "      <td>...</td>\n",
       "      <td>0</td>\n",
       "      <td>0</td>\n",
       "      <td>0</td>\n",
       "      <td>0</td>\n",
       "      <td>0</td>\n",
       "      <td>0</td>\n",
       "      <td>0</td>\n",
       "      <td>0</td>\n",
       "      <td>0</td>\n",
       "      <td>0</td>\n",
       "    </tr>\n",
       "    <tr>\n",
       "      <th>2</th>\n",
       "      <td>0</td>\n",
       "      <td>0</td>\n",
       "      <td>0</td>\n",
       "      <td>0</td>\n",
       "      <td>0</td>\n",
       "      <td>0</td>\n",
       "      <td>0</td>\n",
       "      <td>0</td>\n",
       "      <td>0</td>\n",
       "      <td>0</td>\n",
       "      <td>...</td>\n",
       "      <td>0</td>\n",
       "      <td>0</td>\n",
       "      <td>0</td>\n",
       "      <td>0</td>\n",
       "      <td>0</td>\n",
       "      <td>0</td>\n",
       "      <td>0</td>\n",
       "      <td>0</td>\n",
       "      <td>0</td>\n",
       "      <td>0</td>\n",
       "    </tr>\n",
       "    <tr>\n",
       "      <th>3</th>\n",
       "      <td>0</td>\n",
       "      <td>0</td>\n",
       "      <td>0</td>\n",
       "      <td>0</td>\n",
       "      <td>0</td>\n",
       "      <td>0</td>\n",
       "      <td>0</td>\n",
       "      <td>0</td>\n",
       "      <td>0</td>\n",
       "      <td>0</td>\n",
       "      <td>...</td>\n",
       "      <td>0</td>\n",
       "      <td>0</td>\n",
       "      <td>0</td>\n",
       "      <td>0</td>\n",
       "      <td>0</td>\n",
       "      <td>0</td>\n",
       "      <td>0</td>\n",
       "      <td>0</td>\n",
       "      <td>0</td>\n",
       "      <td>0</td>\n",
       "    </tr>\n",
       "    <tr>\n",
       "      <th>4</th>\n",
       "      <td>0</td>\n",
       "      <td>0</td>\n",
       "      <td>0</td>\n",
       "      <td>0</td>\n",
       "      <td>0</td>\n",
       "      <td>0</td>\n",
       "      <td>0</td>\n",
       "      <td>0</td>\n",
       "      <td>0</td>\n",
       "      <td>0</td>\n",
       "      <td>...</td>\n",
       "      <td>0</td>\n",
       "      <td>0</td>\n",
       "      <td>0</td>\n",
       "      <td>0</td>\n",
       "      <td>0</td>\n",
       "      <td>0</td>\n",
       "      <td>0</td>\n",
       "      <td>0</td>\n",
       "      <td>0</td>\n",
       "      <td>0</td>\n",
       "    </tr>\n",
       "    <tr>\n",
       "      <th>...</th>\n",
       "      <td>...</td>\n",
       "      <td>...</td>\n",
       "      <td>...</td>\n",
       "      <td>...</td>\n",
       "      <td>...</td>\n",
       "      <td>...</td>\n",
       "      <td>...</td>\n",
       "      <td>...</td>\n",
       "      <td>...</td>\n",
       "      <td>...</td>\n",
       "      <td>...</td>\n",
       "      <td>...</td>\n",
       "      <td>...</td>\n",
       "      <td>...</td>\n",
       "      <td>...</td>\n",
       "      <td>...</td>\n",
       "      <td>...</td>\n",
       "      <td>...</td>\n",
       "      <td>...</td>\n",
       "      <td>...</td>\n",
       "      <td>...</td>\n",
       "    </tr>\n",
       "    <tr>\n",
       "      <th>78195</th>\n",
       "      <td>0</td>\n",
       "      <td>0</td>\n",
       "      <td>0</td>\n",
       "      <td>0</td>\n",
       "      <td>0</td>\n",
       "      <td>0</td>\n",
       "      <td>0</td>\n",
       "      <td>0</td>\n",
       "      <td>0</td>\n",
       "      <td>0</td>\n",
       "      <td>...</td>\n",
       "      <td>0</td>\n",
       "      <td>0</td>\n",
       "      <td>0</td>\n",
       "      <td>0</td>\n",
       "      <td>0</td>\n",
       "      <td>0</td>\n",
       "      <td>0</td>\n",
       "      <td>0</td>\n",
       "      <td>0</td>\n",
       "      <td>45</td>\n",
       "    </tr>\n",
       "    <tr>\n",
       "      <th>78196</th>\n",
       "      <td>0</td>\n",
       "      <td>0</td>\n",
       "      <td>0</td>\n",
       "      <td>0</td>\n",
       "      <td>0</td>\n",
       "      <td>0</td>\n",
       "      <td>0</td>\n",
       "      <td>0</td>\n",
       "      <td>0</td>\n",
       "      <td>0</td>\n",
       "      <td>...</td>\n",
       "      <td>0</td>\n",
       "      <td>0</td>\n",
       "      <td>0</td>\n",
       "      <td>0</td>\n",
       "      <td>0</td>\n",
       "      <td>0</td>\n",
       "      <td>0</td>\n",
       "      <td>0</td>\n",
       "      <td>0</td>\n",
       "      <td>45</td>\n",
       "    </tr>\n",
       "    <tr>\n",
       "      <th>78197</th>\n",
       "      <td>0</td>\n",
       "      <td>0</td>\n",
       "      <td>0</td>\n",
       "      <td>0</td>\n",
       "      <td>0</td>\n",
       "      <td>0</td>\n",
       "      <td>0</td>\n",
       "      <td>0</td>\n",
       "      <td>0</td>\n",
       "      <td>0</td>\n",
       "      <td>...</td>\n",
       "      <td>0</td>\n",
       "      <td>0</td>\n",
       "      <td>0</td>\n",
       "      <td>0</td>\n",
       "      <td>0</td>\n",
       "      <td>0</td>\n",
       "      <td>0</td>\n",
       "      <td>0</td>\n",
       "      <td>0</td>\n",
       "      <td>45</td>\n",
       "    </tr>\n",
       "    <tr>\n",
       "      <th>78198</th>\n",
       "      <td>0</td>\n",
       "      <td>0</td>\n",
       "      <td>0</td>\n",
       "      <td>0</td>\n",
       "      <td>0</td>\n",
       "      <td>0</td>\n",
       "      <td>0</td>\n",
       "      <td>0</td>\n",
       "      <td>0</td>\n",
       "      <td>0</td>\n",
       "      <td>...</td>\n",
       "      <td>0</td>\n",
       "      <td>0</td>\n",
       "      <td>0</td>\n",
       "      <td>0</td>\n",
       "      <td>0</td>\n",
       "      <td>0</td>\n",
       "      <td>0</td>\n",
       "      <td>0</td>\n",
       "      <td>0</td>\n",
       "      <td>45</td>\n",
       "    </tr>\n",
       "    <tr>\n",
       "      <th>78199</th>\n",
       "      <td>0</td>\n",
       "      <td>0</td>\n",
       "      <td>0</td>\n",
       "      <td>0</td>\n",
       "      <td>0</td>\n",
       "      <td>0</td>\n",
       "      <td>0</td>\n",
       "      <td>0</td>\n",
       "      <td>0</td>\n",
       "      <td>0</td>\n",
       "      <td>...</td>\n",
       "      <td>0</td>\n",
       "      <td>0</td>\n",
       "      <td>0</td>\n",
       "      <td>0</td>\n",
       "      <td>0</td>\n",
       "      <td>0</td>\n",
       "      <td>0</td>\n",
       "      <td>0</td>\n",
       "      <td>0</td>\n",
       "      <td>45</td>\n",
       "    </tr>\n",
       "  </tbody>\n",
       "</table>\n",
       "<p>78200 rows × 1025 columns</p>\n",
       "</div>"
      ],
      "text/plain": [
       "       0  1  2  3  4  5  6  7  8  9  ... 1015 1016 1017 1018 1019 1020 1021  \\\n",
       "0      0  0  0  0  0  0  0  0  0  0  ...    0    0    0    0    0    0    0   \n",
       "1      0  0  0  0  0  0  0  0  0  0  ...    0    0    0    0    0    0    0   \n",
       "2      0  0  0  0  0  0  0  0  0  0  ...    0    0    0    0    0    0    0   \n",
       "3      0  0  0  0  0  0  0  0  0  0  ...    0    0    0    0    0    0    0   \n",
       "4      0  0  0  0  0  0  0  0  0  0  ...    0    0    0    0    0    0    0   \n",
       "...   .. .. .. .. .. .. .. .. .. ..  ...  ...  ...  ...  ...  ...  ...  ...   \n",
       "78195  0  0  0  0  0  0  0  0  0  0  ...    0    0    0    0    0    0    0   \n",
       "78196  0  0  0  0  0  0  0  0  0  0  ...    0    0    0    0    0    0    0   \n",
       "78197  0  0  0  0  0  0  0  0  0  0  ...    0    0    0    0    0    0    0   \n",
       "78198  0  0  0  0  0  0  0  0  0  0  ...    0    0    0    0    0    0    0   \n",
       "78199  0  0  0  0  0  0  0  0  0  0  ...    0    0    0    0    0    0    0   \n",
       "\n",
       "      1022 1023 salida  \n",
       "0        0    0      0  \n",
       "1        0    0      0  \n",
       "2        0    0      0  \n",
       "3        0    0      0  \n",
       "4        0    0      0  \n",
       "...    ...  ...    ...  \n",
       "78195    0    0     45  \n",
       "78196    0    0     45  \n",
       "78197    0    0     45  \n",
       "78198    0    0     45  \n",
       "78199    0    0     45  \n",
       "\n",
       "[78200 rows x 1025 columns]"
      ]
     },
     "execution_count": 4,
     "metadata": {},
     "output_type": "execute_result"
    }
   ],
   "source": [
    "df.iloc[:, len(columnas)] = df.iloc[:, len(columnas)].astype('category').cat.codes\n",
    "df"
   ]
  },
  {
   "cell_type": "code",
   "execution_count": 5,
   "metadata": {},
   "outputs": [
    {
     "data": {
      "text/plain": [
       "array([[0., 0., 0., ..., 0., 0., 0.],\n",
       "       [0., 0., 0., ..., 0., 0., 0.],\n",
       "       [0., 0., 0., ..., 0., 0., 0.],\n",
       "       ...,\n",
       "       [0., 0., 0., ..., 0., 0., 0.],\n",
       "       [0., 0., 0., ..., 0., 0., 0.],\n",
       "       [0., 0., 0., ..., 0., 0., 0.]])"
      ]
     },
     "execution_count": 5,
     "metadata": {},
     "output_type": "execute_result"
    }
   ],
   "source": [
    "scaler = StandardScaler()\n",
    "\n",
    "x = df.iloc[:, 0:len(columnas)].values\n",
    "#x = to_categorical(x)\n",
    "x = scaler.fit_transform(x)\n",
    "x"
   ]
  },
  {
   "cell_type": "code",
   "execution_count": 6,
   "metadata": {},
   "outputs": [],
   "source": [
    "y = df.iloc[:, len(columnas):len(columnas)+1].values\n",
    "encoder = OneHotEncoder()\n",
    "y = encoder.fit_transform(y).toarray()\n",
    "#y = to_categorical(y)"
   ]
  },
  {
   "cell_type": "code",
   "execution_count": 7,
   "metadata": {},
   "outputs": [],
   "source": [
    "x_train, x_test, y_train, y_test = train_test_split(x, y, test_size = 0.2, stratify = y)"
   ]
  },
  {
   "cell_type": "code",
   "execution_count": 8,
   "metadata": {},
   "outputs": [
    {
     "data": {
      "text/plain": [
       "62560"
      ]
     },
     "execution_count": 8,
     "metadata": {},
     "output_type": "execute_result"
    }
   ],
   "source": [
    "len(x_train)"
   ]
  },
  {
   "cell_type": "code",
   "execution_count": 19,
   "metadata": {
    "scrolled": true
   },
   "outputs": [
    {
     "name": "stdout",
     "output_type": "stream",
     "text": [
      "Train on 62560 samples, validate on 15640 samples\n",
      "Epoch 1/35\n",
      "62560/62560 [==============================] - 20s 324us/step - loss: 2.4352 - accuracy: 0.3083 - val_loss: 1.5450 - val_accuracy: 0.5482\n",
      "Epoch 2/35\n",
      "62560/62560 [==============================] - 18s 284us/step - loss: 1.2207 - accuracy: 0.6502 - val_loss: 1.0793 - val_accuracy: 0.6937\n",
      "Epoch 3/35\n",
      "62560/62560 [==============================] - 18s 283us/step - loss: 0.8679 - accuracy: 0.7517 - val_loss: 0.9122 - val_accuracy: 0.7449\n",
      "Epoch 4/35\n",
      "62560/62560 [==============================] - 17s 280us/step - loss: 0.6942 - accuracy: 0.8015 - val_loss: 0.8425 - val_accuracy: 0.7684\n",
      "Epoch 5/35\n",
      "62560/62560 [==============================] - 17s 279us/step - loss: 0.5704 - accuracy: 0.8348 - val_loss: 0.8057 - val_accuracy: 0.7840\n",
      "Epoch 6/35\n",
      "62560/62560 [==============================] - 18s 280us/step - loss: 0.4871 - accuracy: 0.8570 - val_loss: 0.7497 - val_accuracy: 0.8001\n",
      "Epoch 7/35\n",
      "62560/62560 [==============================] - 18s 281us/step - loss: 0.4162 - accuracy: 0.8762 - val_loss: 0.7616 - val_accuracy: 0.8004\n",
      "Epoch 8/35\n",
      "62560/62560 [==============================] - 18s 280us/step - loss: 0.3661 - accuracy: 0.8893 - val_loss: 0.8055 - val_accuracy: 0.8010\n",
      "Epoch 9/35\n",
      "62560/62560 [==============================] - 18s 282us/step - loss: 0.3242 - accuracy: 0.9006 - val_loss: 0.8286 - val_accuracy: 0.7979\n",
      "Epoch 10/35\n",
      "62560/62560 [==============================] - 18s 284us/step - loss: 0.2911 - accuracy: 0.9083 - val_loss: 0.7877 - val_accuracy: 0.8129\n",
      "Epoch 11/35\n",
      "62560/62560 [==============================] - 18s 282us/step - loss: 0.2658 - accuracy: 0.9174 - val_loss: 0.8594 - val_accuracy: 0.8038\n",
      "Epoch 12/35\n",
      "62560/62560 [==============================] - 17s 279us/step - loss: 0.2378 - accuracy: 0.9252 - val_loss: 0.8248 - val_accuracy: 0.8173\n",
      "Epoch 13/35\n",
      "62560/62560 [==============================] - 18s 283us/step - loss: 0.2178 - accuracy: 0.9321 - val_loss: 0.8336 - val_accuracy: 0.8211\n",
      "Epoch 14/35\n",
      "62560/62560 [==============================] - 18s 282us/step - loss: 0.2046 - accuracy: 0.9357 - val_loss: 0.8830 - val_accuracy: 0.8171\n",
      "Epoch 15/35\n",
      "62560/62560 [==============================] - 18s 281us/step - loss: 0.1975 - accuracy: 0.9382 - val_loss: 0.8777 - val_accuracy: 0.8216\n",
      "Epoch 16/35\n",
      "62560/62560 [==============================] - 18s 282us/step - loss: 0.1749 - accuracy: 0.9447 - val_loss: 0.9264 - val_accuracy: 0.8182\n",
      "Epoch 17/35\n",
      "62560/62560 [==============================] - 18s 283us/step - loss: 0.1771 - accuracy: 0.9451 - val_loss: 1.0115 - val_accuracy: 0.8093\n",
      "Epoch 18/35\n",
      "62560/62560 [==============================] - 18s 281us/step - loss: 0.1550 - accuracy: 0.9510 - val_loss: 0.9258 - val_accuracy: 0.8197\n",
      "Epoch 19/35\n",
      "62560/62560 [==============================] - 17s 280us/step - loss: 0.1597 - accuracy: 0.9494 - val_loss: 0.9624 - val_accuracy: 0.8242\n",
      "Epoch 20/35\n",
      "62560/62560 [==============================] - 18s 282us/step - loss: 0.1444 - accuracy: 0.9548 - val_loss: 0.9321 - val_accuracy: 0.8352\n",
      "Epoch 21/35\n",
      "62560/62560 [==============================] - 18s 283us/step - loss: 0.1389 - accuracy: 0.9561 - val_loss: 0.9830 - val_accuracy: 0.8242\n",
      "Epoch 22/35\n",
      "62560/62560 [==============================] - 18s 280us/step - loss: 0.1310 - accuracy: 0.9598 - val_loss: 0.9956 - val_accuracy: 0.8283\n",
      "Epoch 23/35\n",
      "62560/62560 [==============================] - 17s 280us/step - loss: 0.1324 - accuracy: 0.9594 - val_loss: 1.0823 - val_accuracy: 0.8192\n",
      "Epoch 24/35\n",
      "62560/62560 [==============================] - 18s 280us/step - loss: 0.1332 - accuracy: 0.9598 - val_loss: 1.0766 - val_accuracy: 0.8210\n",
      "Epoch 25/35\n",
      "62560/62560 [==============================] - 18s 280us/step - loss: 0.1134 - accuracy: 0.9649 - val_loss: 1.0543 - val_accuracy: 0.8261\n",
      "Epoch 26/35\n",
      "62560/62560 [==============================] - 18s 283us/step - loss: 0.1217 - accuracy: 0.9622 - val_loss: 1.0697 - val_accuracy: 0.8313\n",
      "Epoch 27/35\n",
      "62560/62560 [==============================] - 18s 281us/step - loss: 0.1131 - accuracy: 0.9655 - val_loss: 1.0630 - val_accuracy: 0.8340\n",
      "Epoch 28/35\n",
      "62560/62560 [==============================] - 17s 279us/step - loss: 0.1152 - accuracy: 0.9648 - val_loss: 1.1797 - val_accuracy: 0.8146\n",
      "Epoch 29/35\n",
      "62560/62560 [==============================] - 17s 277us/step - loss: 0.1010 - accuracy: 0.9690 - val_loss: 1.1903 - val_accuracy: 0.8214\n",
      "Epoch 30/35\n",
      "62560/62560 [==============================] - 17s 278us/step - loss: 0.1197 - accuracy: 0.9639 - val_loss: 1.1282 - val_accuracy: 0.8290\n",
      "Epoch 31/35\n",
      "62560/62560 [==============================] - 17s 277us/step - loss: 0.0935 - accuracy: 0.9714 - val_loss: 1.1997 - val_accuracy: 0.8248\n",
      "Epoch 32/35\n",
      "62560/62560 [==============================] - 17s 278us/step - loss: 0.1043 - accuracy: 0.9688 - val_loss: 1.1501 - val_accuracy: 0.8272\n",
      "Epoch 33/35\n",
      "62560/62560 [==============================] - 18s 280us/step - loss: 0.0971 - accuracy: 0.9705 - val_loss: 1.1682 - val_accuracy: 0.8221\n",
      "Epoch 34/35\n",
      "62560/62560 [==============================] - 18s 282us/step - loss: 0.0986 - accuracy: 0.9699 - val_loss: 1.1317 - val_accuracy: 0.8317\n",
      "Epoch 35/35\n",
      "62560/62560 [==============================] - 17s 279us/step - loss: 0.0995 - accuracy: 0.9709 - val_loss: 1.1705 - val_accuracy: 0.8293\n"
     ]
    }
   ],
   "source": [
    "model = Sequential()\n",
    "model.add(Dense(1024, input_dim = 1024, activation = 'relu'))\n",
    "model.add(Dense(10, activation = 'relu'))\n",
    "model.add(Dense(5, activation = 'relu'))\n",
    "model.add(Dense(46, activation = 'softmax'))#Salidas\n",
    "\n",
    "model.compile(loss = 'categorical_crossentropy', optimizer = 'adam', metrics = ['accuracy']) # Precisión\n",
    "historial = model.fit(x_train, y_train, validation_data = (x_test, y_test), epochs = 35, batch_size = 64)"
   ]
  },
  {
   "cell_type": "code",
   "execution_count": 21,
   "metadata": {},
   "outputs": [
    {
     "name": "stdout",
     "output_type": "stream",
     "text": [
      "Precisión:  82.93478260869566\n"
     ]
    }
   ],
   "source": [
    "y_pred1 = model.predict(x_test)\n",
    "\n",
    "pred1 = list()\n",
    "for i in range(len(y_pred1)):\n",
    "    pred1.append(np.argmax(y_pred1[i]))\n",
    "    \n",
    "test1 = list()\n",
    "for i in range(len(y_test)):\n",
    "    test1.append(np.argmax(y_test[i]))\n",
    "    \n",
    "    \n",
    "precision1 = accuracy_score(pred1, test1) # Comparamos lo que predijo la red con las salidas deseadas\n",
    "print('Precisión: ',(precision1*100))"
   ]
  },
  {
   "cell_type": "code",
   "execution_count": 70,
   "metadata": {},
   "outputs": [
    {
     "data": {
      "image/png": "[encoded data removed]",
      "text/plain": [
       "<Figure size 432x288 with 1 Axes>"
      ]
     },
     "metadata": {
      "needs_background": "light"
     },
     "output_type": "display_data"
    }
   ],
   "source": [
    "pp.plot(historial.history['accuracy'])\n",
    "pp.plot(historial.history['val_accuracy'])\n",
    "pp.title('Precisión de la RNA')\n",
    "pp.ylabel('Precisión')\n",
    "pp.xlabel('Época')\n",
    "pp.legend(['Entrenamiento','Test'], loc='lower right')\n",
    "pp.grid(True)\n",
    "pp.savefig(\"images/model1/accuracy.png\")\n",
    "pp.show()\n"
   ]
  },
  {
   "cell_type": "code",
   "execution_count": 71,
   "metadata": {},
   "outputs": [
    {
     "data": {
      "image/png": "[encoded data removed]",
      "text/plain": [
       "<Figure size 432x288 with 1 Axes>"
      ]
     },
     "metadata": {
      "needs_background": "light"
     },
     "output_type": "display_data"
    }
   ],
   "source": [
    "pp.plot(historial.history['loss'])\n",
    "pp.plot(historial.history['val_loss'])\n",
    "pp.title('Loss')\n",
    "pp.ylabel('Loss')\n",
    "pp.xlabel('Época')\n",
    "pp.legend(['Entrenamiento','Test'], loc='upper right')\n",
    "pp.grid(True)\n",
    "pp.savefig(\"images/model1/loss.png\")\n",
    "pp.show() \n"
   ]
  },
  {
   "cell_type": "code",
   "execution_count": 24,
   "metadata": {},
   "outputs": [
    {
     "name": "stdout",
     "output_type": "stream",
     "text": [
      "Saved model to disk\n"
     ]
    }
   ],
   "source": [
    "model.save_weights(\"saved_networks/model_1.h5\")\n",
    "print(\"Saved model to disk\")"
   ]
  },
  {
   "cell_type": "code",
   "execution_count": 25,
   "metadata": {},
   "outputs": [],
   "source": [
    "y_pred_resp1 = encoder.fit_transform( np.array(pred1).reshape(-1,1)).toarray()"
   ]
  },
  {
   "cell_type": "code",
   "execution_count": 26,
   "metadata": {},
   "outputs": [
    {
     "data": {
      "text/plain": [
       "array([[0., 0., 0., ..., 0., 0., 0.],\n",
       "       [0., 0., 0., ..., 0., 0., 0.],\n",
       "       [0., 0., 0., ..., 0., 0., 0.],\n",
       "       ...,\n",
       "       [0., 0., 0., ..., 0., 0., 0.],\n",
       "       [0., 0., 0., ..., 0., 0., 0.],\n",
       "       [0., 0., 0., ..., 0., 0., 0.]])"
      ]
     },
     "execution_count": 26,
     "metadata": {},
     "output_type": "execute_result"
    }
   ],
   "source": [
    "y_pred_resp1"
   ]
  },
  {
   "cell_type": "code",
   "execution_count": 27,
   "metadata": {},
   "outputs": [],
   "source": [
    "matrix1 = confusion_matrix(y_test.argmax(axis=1), y_pred_resp1.argmax(axis=1))"
   ]
  },
  {
   "cell_type": "code",
   "execution_count": 28,
   "metadata": {},
   "outputs": [
    {
     "data": {
      "text/plain": [
       "array([[291,   0,   0, ...,   0,   0,   0],\n",
       "       [  0, 307,   9, ...,   0,   7,   0],\n",
       "       [  0,   8, 295, ...,   0,   0,   0],\n",
       "       ...,\n",
       "       [  0,   1,   0, ..., 328,   0,   0],\n",
       "       [  0,   2,   0, ...,   3, 309,   0],\n",
       "       [  0,   1,   0, ...,   0,   0, 317]], dtype=int64)"
      ]
     },
     "execution_count": 28,
     "metadata": {},
     "output_type": "execute_result"
    }
   ],
   "source": [
    "matrix1"
   ]
  },
  {
   "cell_type": "code",
   "execution_count": 29,
   "metadata": {},
   "outputs": [
    {
     "data": {
      "image/png": "[encoded data removed]",
      "text/plain": [
       "<Figure size 432x288 with 2 Axes>"
      ]
     },
     "metadata": {
      "needs_background": "light"
     },
     "output_type": "display_data"
    }
   ],
   "source": [
    "cm = matrix1\n",
    "fig = pp.figure()\n",
    "ax = fig.add_subplot(111)\n",
    "cax = ax.matshow(cm)\n",
    "pp.title('Confusion matrix of the classifier')\n",
    "fig.colorbar(cax)\n",
    "ax.set_xticklabels([''] + carpetas)\n",
    "ax.set_yticklabels([''] + carpetas)\n",
    "pp.xlabel('Predicted')\n",
    "pp.ylabel('True')\n",
    "pp.show()"
   ]
  },
  {
   "cell_type": "markdown",
   "metadata": {},
   "source": [
    "# Segundo modelo"
   ]
  },
  {
   "cell_type": "code",
   "execution_count": 45,
   "metadata": {},
   "outputs": [
    {
     "name": "stdout",
     "output_type": "stream",
     "text": [
      "Train on 62560 samples, validate on 15640 samples\n",
      "Epoch 1/5\n",
      "62560/62560 [==============================] - 18s 292us/step - loss: 1.2900 - accuracy: 0.6502 - val_loss: 0.6576 - val_accuracy: 0.8169\n",
      "Epoch 2/5\n",
      "62560/62560 [==============================] - 18s 280us/step - loss: 0.5075 - accuracy: 0.8526 - val_loss: 0.5626 - val_accuracy: 0.8397\n",
      "Epoch 3/5\n",
      "62560/62560 [==============================] - 18s 282us/step - loss: 0.3523 - accuracy: 0.8950 - val_loss: 0.4605 - val_accuracy: 0.8724\n",
      "Epoch 4/5\n",
      "62560/62560 [==============================] - 18s 281us/step - loss: 0.2720 - accuracy: 0.9181 - val_loss: 0.4726 - val_accuracy: 0.8719\n",
      "Epoch 5/5\n",
      "62560/62560 [==============================] - 18s 282us/step - loss: 0.2258 - accuracy: 0.9296 - val_loss: 0.4647 - val_accuracy: 0.8822\n"
     ]
    }
   ],
   "source": [
    "model = Sequential()\n",
    "model.add(Dense(1024, input_dim = 1024, activation = 'relu'))\n",
    "model.add(Dense(20, activation = 'relu'))\n",
    "model.add(Dense(15, activation = 'relu'))\n",
    "model.add(Dense(46, activation = 'softmax'))#Salidas\n",
    "\n",
    "model.compile(loss = 'categorical_crossentropy', optimizer = 'adam', metrics = ['accuracy']) # Precisión\n",
    "historial = model.fit(x_train, y_train, validation_data = (x_test, y_test), epochs = 5, batch_size = 64)"
   ]
  },
  {
   "cell_type": "code",
   "execution_count": 46,
   "metadata": {},
   "outputs": [
    {
     "name": "stdout",
     "output_type": "stream",
     "text": [
      "Precisión:  88.22250639386189\n"
     ]
    }
   ],
   "source": [
    "y_pred2 = model.predict(x_test)\n",
    "\n",
    "pred2 = list()\n",
    "for i in range(len(y_pred2)):\n",
    "    pred2.append(np.argmax(y_pred2[i]))\n",
    "    \n",
    "test2 = list()\n",
    "for i in range(len(y_test)):\n",
    "    test2.append(np.argmax(y_test[i]))\n",
    "    \n",
    "    \n",
    "precision2 = accuracy_score(pred2, test2) # Comparamos lo que predijo la red con las salidas deseadas\n",
    "print('Precisión: ',(precision2*100))"
   ]
  },
  {
   "cell_type": "code",
   "execution_count": 89,
   "metadata": {},
   "outputs": [
    {
     "data": {
      "image/png": "[encoded data removed]",
      "text/plain": [
       "<Figure size 432x288 with 1 Axes>"
      ]
     },
     "metadata": {
      "needs_background": "light"
     },
     "output_type": "display_data"
    }
   ],
   "source": [
    "pp.plot(historial.history['accuracy'])\n",
    "pp.plot(historial.history['val_accuracy'])\n",
    "pp.title('Precisión de la RNA')\n",
    "pp.ylabel('Precisión')\n",
    "pp.xlabel('Época')\n",
    "pp.legend(['Entrenamiento','Test'], loc='lower right')\n",
    "pp.grid(True)\n",
    "pp.savefig(\"images/model2/accuracy.png\")\n",
    "pp.show()\n"
   ]
  },
  {
   "cell_type": "code",
   "execution_count": 69,
   "metadata": {},
   "outputs": [
    {
     "data": {
      "image/png": "[encoded data removed]",
      "text/plain": [
       "<Figure size 432x288 with 1 Axes>"
      ]
     },
     "metadata": {
      "needs_background": "light"
     },
     "output_type": "display_data"
    }
   ],
   "source": [
    "pp.plot(historial.history['loss'])\n",
    "pp.plot(historial.history['val_loss'])\n",
    "pp.title('Loss')\n",
    "pp.ylabel('Loss')\n",
    "pp.xlabel('Época')\n",
    "pp.legend(['Entrenamiento','Test'], loc='upper right')\n",
    "pp.grid(True)\n",
    "pp.savefig(\"images/model2/loss.png\")\n",
    "pp.show()\n"
   ]
  },
  {
   "cell_type": "code",
   "execution_count": 49,
   "metadata": {},
   "outputs": [
    {
     "name": "stdout",
     "output_type": "stream",
     "text": [
      "Saved model to disk\n"
     ]
    }
   ],
   "source": [
    "model.save_weights(\"saved_networks/model_2.h5\")\n",
    "print(\"Saved model to disk\")"
   ]
  },
  {
   "cell_type": "code",
   "execution_count": 50,
   "metadata": {},
   "outputs": [],
   "source": [
    "y_pred_resp2 = encoder.fit_transform( np.array(pred2).reshape(-1,1)).toarray()"
   ]
  },
  {
   "cell_type": "code",
   "execution_count": 51,
   "metadata": {},
   "outputs": [],
   "source": [
    "matrix2 = confusion_matrix(y_test.argmax(axis=1), y_pred_resp2.argmax(axis=1))"
   ]
  },
  {
   "cell_type": "code",
   "execution_count": 52,
   "metadata": {},
   "outputs": [
    {
     "data": {
      "image/png": "[encoded data removed]",
      "text/plain": [
       "<Figure size 432x288 with 2 Axes>"
      ]
     },
     "metadata": {
      "needs_background": "light"
     },
     "output_type": "display_data"
    }
   ],
   "source": [
    "cm = matrix2\n",
    "fig = pp.figure()\n",
    "ax = fig.add_subplot(111)\n",
    "cax = ax.matshow(cm)\n",
    "pp.title('Confusion matrix of the classifier')\n",
    "fig.colorbar(cax)\n",
    "ax.set_xticklabels([''] + carpetas)\n",
    "ax.set_yticklabels([''] + carpetas)\n",
    "pp.xlabel('Predicted')\n",
    "pp.ylabel('True')\n",
    "pp.show()"
   ]
  },
  {
   "cell_type": "markdown",
   "metadata": {},
   "source": [
    "# Tercer Modelo"
   ]
  },
  {
   "cell_type": "code",
   "execution_count": 53,
   "metadata": {},
   "outputs": [
    {
     "name": "stdout",
     "output_type": "stream",
     "text": [
      "Train on 62560 samples, validate on 15640 samples\n",
      "Epoch 1/12\n",
      "62560/62560 [==============================] - 18s 291us/step - loss: 1.5502 - accuracy: 0.5749 - val_loss: 0.8839 - val_accuracy: 0.7510\n",
      "Epoch 2/12\n",
      "62560/62560 [==============================] - 18s 288us/step - loss: 0.6372 - accuracy: 0.8167 - val_loss: 0.5803 - val_accuracy: 0.8363\n",
      "Epoch 3/12\n",
      "62560/62560 [==============================] - 18s 288us/step - loss: 0.4365 - accuracy: 0.8723 - val_loss: 0.5230 - val_accuracy: 0.8533\n",
      "Epoch 4/12\n",
      "62560/62560 [==============================] - 18s 295us/step - loss: 0.3338 - accuracy: 0.9002 - val_loss: 0.4904 - val_accuracy: 0.8628\n",
      "Epoch 5/12\n",
      "62560/62560 [==============================] - 18s 291us/step - loss: 0.2735 - accuracy: 0.9166 - val_loss: 0.4802 - val_accuracy: 0.8714\n",
      "Epoch 6/12\n",
      "62560/62560 [==============================] - 18s 293us/step - loss: 0.2291 - accuracy: 0.9301 - val_loss: 0.4723 - val_accuracy: 0.8748\n",
      "Epoch 7/12\n",
      "62560/62560 [==============================] - 18s 288us/step - loss: 0.1955 - accuracy: 0.9385 - val_loss: 0.5008 - val_accuracy: 0.8761\n",
      "Epoch 8/12\n",
      "62560/62560 [==============================] - 18s 292us/step - loss: 0.1746 - accuracy: 0.9455 - val_loss: 0.4543 - val_accuracy: 0.8862\n",
      "Epoch 9/12\n",
      "62560/62560 [==============================] - 18s 289us/step - loss: 0.1562 - accuracy: 0.9513 - val_loss: 0.4919 - val_accuracy: 0.8847\n",
      "Epoch 10/12\n",
      "62560/62560 [==============================] - 18s 291us/step - loss: 0.1426 - accuracy: 0.9552 - val_loss: 0.4795 - val_accuracy: 0.8887\n",
      "Epoch 11/12\n",
      "62560/62560 [==============================] - 18s 287us/step - loss: 0.1277 - accuracy: 0.9592 - val_loss: 0.4806 - val_accuracy: 0.8946\n",
      "Epoch 12/12\n",
      "62560/62560 [==============================] - 18s 291us/step - loss: 0.1274 - accuracy: 0.9602 - val_loss: 0.5607 - val_accuracy: 0.8769\n"
     ]
    }
   ],
   "source": [
    "model = Sequential()\n",
    "model.add(Dense(1024, input_dim = 1024, activation = 'relu'))\n",
    "model.add(Dense(25, activation = 'relu'))\n",
    "model.add(Dense(15, activation = 'relu'))\n",
    "model.add(Dense(20, activation = 'relu'))\n",
    "model.add(Dense(18, activation = 'relu'))\n",
    "model.add(Dense(46, activation = 'softmax'))#Salidas\n",
    "\n",
    "model.compile(loss = 'categorical_crossentropy', optimizer = 'adam', metrics = ['accuracy']) # Precisión\n",
    "historial = model.fit(x_train, y_train, validation_data = (x_test, y_test), epochs = 12, batch_size = 64)"
   ]
  },
  {
   "cell_type": "code",
   "execution_count": 54,
   "metadata": {},
   "outputs": [
    {
     "name": "stdout",
     "output_type": "stream",
     "text": [
      "Precisión:  87.68542199488492\n"
     ]
    }
   ],
   "source": [
    "y_pred3 = model.predict(x_test)\n",
    "\n",
    "pred3 = list()\n",
    "for i in range(len(y_pred3)):\n",
    "    pred3.append(np.argmax(y_pred3[i]))\n",
    "    \n",
    "test3 = list()\n",
    "for i in range(len(y_test)):\n",
    "    test3.append(np.argmax(y_test[i]))\n",
    "    \n",
    "    \n",
    "precision3 = accuracy_score(pred3, test3) # Comparamos lo que predijo la red con las salidas deseadas\n",
    "print('Precisión: ',(precision3*100))"
   ]
  },
  {
   "cell_type": "code",
   "execution_count": 91,
   "metadata": {},
   "outputs": [
    {
     "data": {
      "image/png": "[encoded data removed]",
      "text/plain": [
       "<Figure size 432x288 with 1 Axes>"
      ]
     },
     "metadata": {
      "needs_background": "light"
     },
     "output_type": "display_data"
    }
   ],
   "source": [
    "pp.plot(historial.history['accuracy'])\n",
    "pp.plot(historial.history['val_accuracy'])\n",
    "pp.title('Precisión de la RNA')\n",
    "pp.ylabel('Precisión')\n",
    "pp.xlabel('Época')\n",
    "pp.legend(['Entrenamiento','Test'], loc='lower right')\n",
    "pp.grid(True)\n",
    "pp.savefig(\"images/model3/accuracy.png\")\n",
    "pp.show()\n"
   ]
  },
  {
   "cell_type": "code",
   "execution_count": 92,
   "metadata": {},
   "outputs": [
    {
     "data": {
      "image/png": "[encoded data removed]",
      "text/plain": [
       "<Figure size 432x288 with 1 Axes>"
      ]
     },
     "metadata": {
      "needs_background": "light"
     },
     "output_type": "display_data"
    }
   ],
   "source": [
    "pp.plot(historial.history['loss'])\n",
    "pp.plot(historial.history['val_loss'])\n",
    "pp.title('Loss')\n",
    "pp.ylabel('Loss')\n",
    "pp.xlabel('Época')\n",
    "pp.legend(['Entrenamiento','Test'], loc='upper right')\n",
    "pp.grid(True)\n",
    "pp.savefig(\"images/model3/loss.png\")\n",
    "pp.show()\n"
   ]
  },
  {
   "cell_type": "code",
   "execution_count": 57,
   "metadata": {},
   "outputs": [
    {
     "name": "stdout",
     "output_type": "stream",
     "text": [
      "Saved model to disk\n"
     ]
    }
   ],
   "source": [
    "model.save_weights(\"saved_networks/model_3.h5\")\n",
    "print(\"Saved model to disk\")"
   ]
  },
  {
   "cell_type": "code",
   "execution_count": 58,
   "metadata": {},
   "outputs": [],
   "source": [
    "y_pred_resp3 = encoder.fit_transform( np.array(pred3).reshape(-1,1)).toarray()"
   ]
  },
  {
   "cell_type": "code",
   "execution_count": 59,
   "metadata": {},
   "outputs": [],
   "source": [
    "matrix3 = confusion_matrix(y_test.argmax(axis=1), y_pred_resp3.argmax(axis=1))"
   ]
  },
  {
   "cell_type": "code",
   "execution_count": 60,
   "metadata": {},
   "outputs": [
    {
     "data": {
      "image/png": "[encoded data removed]",
      "text/plain": [
       "<Figure size 432x288 with 2 Axes>"
      ]
     },
     "metadata": {
      "needs_background": "light"
     },
     "output_type": "display_data"
    }
   ],
   "source": [
    "cm = matrix3\n",
    "fig = pp.figure()\n",
    "ax = fig.add_subplot(111)\n",
    "cax = ax.matshow(cm)\n",
    "pp.title('Confusion matrix of the classifier')\n",
    "fig.colorbar(cax)\n",
    "ax.set_xticklabels([''] + carpetas)\n",
    "ax.set_yticklabels([''] + carpetas)\n",
    "pp.xlabel('Predicted')\n",
    "pp.ylabel('True')\n",
    "pp.show()"
   ]
  },
  {
   "cell_type": "markdown",
   "metadata": {},
   "source": [
    "# Generacion de reporte"
   ]
  },
  {
   "cell_type": "code",
   "execution_count": 182,
   "metadata": {},
   "outputs": [],
   "source": [
    "from reportlab.lib.pagesizes import A4\n",
    "from reportlab.pdfgen import canvas\n",
    "from reportlab.platypus import (SimpleDocTemplate, Paragraph, PageBreak)"
   ]
  },
  {
   "cell_type": "code",
   "execution_count": 192,
   "metadata": {},
   "outputs": [],
   "source": [
    "w, h = A4\n",
    "c = canvas.Canvas(\"reports/reporte.pdf\", pagesize=A4)\n",
    "\n",
    "t_images= 250\n",
    "\n",
    "text = c.beginText(200,h - 25)\n",
    "text.setFont('Times-Roman',15)\n",
    "text.textLines('Proyecto Interciclo IA II')\n",
    "c.drawText(text)\n",
    "\n",
    "text = c.beginText(7,h - 50)\n",
    "text.setFont('Times-Roman',12)\n",
    "text.textLines('Integrantes: Hernan Leon, Oscar Pizarro')\n",
    "c.drawText(text)\n",
    "\n",
    "text = c.beginText(7,h - 70)\n",
    "text.setFont('Times-Roman',12)\n",
    "text.textLines('Fecha: 14-06-2020')\n",
    "c.drawText(text)\n",
    "\n",
    "text = c.beginText(350,h - 90)\n",
    "text.setFont('Times-Roman',12)\n",
    "text.textLines('Reporte de Resultados')\n",
    "c.drawText(text)\n",
    "\n",
    "###Titulo Grafica Acuracy losss de los modelos\n",
    "cadena = \"Graficas de Accuracy y Loss de los modelos\"\n",
    "text = c.beginText(180, h-160)\n",
    "text.setFont(\"Helvetica\", 14)\n",
    "text.textLines(cadena)\n",
    "c.drawText(text)\n",
    "##Accurracy modelo 1\n",
    "cadena = \"Graficas de Accuracy - Modelo1\"\n",
    "text = c.beginText(90, h-190)\n",
    "text.setFont(\"Helvetica\", 12)\n",
    "text.textLines(cadena)\n",
    "c.drawText(text)\n",
    "c.drawImage(\"images/model1/accuracy.png\", 50,400, width=t_images, height=t_images)\n",
    "\n",
    "##Accurracy modelo 2\n",
    "cadena = \"Graficas de Accuracy - Modelo2\"\n",
    "text = c.beginText(90, h-450)\n",
    "text.setFont(\"Helvetica\", 12)\n",
    "text.textLines(cadena)\n",
    "c.drawText(text)\n",
    "c.drawImage(\"images/model2/accuracy.png\", 50,140, width=t_images, height=t_images)\n",
    "\n",
    "##Loss modelo 1\n",
    "cadena = \"Graficas de Loss - Modelo1\"\n",
    "text = c.beginText(350, h-190)\n",
    "text.setFont(\"Helvetica\", 12)\n",
    "text.textLines(cadena)\n",
    "c.drawText(text)\n",
    "c.drawImage(\"images/model1/loss.png\", 300, 400, width= t_images, height= t_images)\n",
    "\n",
    "##Loss modelo 2\n",
    "cadena = \"Graficas de Loss - Modelo2\"\n",
    "text = c.beginText(350, h-450)\n",
    "text.setFont(\"Helvetica\", 12)\n",
    "text.textLines(cadena)\n",
    "c.drawText(text)\n",
    "c.drawImage(\"images/model2/loss.png\", 300, 140, width= t_images, height= t_images)\n",
    "#c.drawImage(\"images/model2/loss.png\", 50, h - 200, width= t_images, height= t_images)\n",
    "#c.drawImage(\"images/model3/accuracy.png\", 50, h - 200, width= t_images, height= t_images)\n",
    "#c.drawImage(\"images/model3/loss.png\", 50, h - 200, width= t_images, height= t_images)\n",
    "\n",
    "#canvas.drawString(50, h - 50, \"¡Hola, mundo!\")\n",
    "c.showPage()#termina la primera pagina\n",
    "\n",
    "###Titulo Grafica Acuracy losss de los modelos\n",
    "cadena = \"Graficas de Accuracy y Loss de los modelos\"\n",
    "text = c.beginText(180, h-160)\n",
    "text.setFont(\"Helvetica\", 14)\n",
    "text.textLines(cadena)\n",
    "c.drawText(text)\n",
    "\n",
    "##Accurracy modelo 3\n",
    "cadena = \"Graficas de Accuracy - Modelo3\"\n",
    "text = c.beginText(90, h-190)\n",
    "text.setFont(\"Helvetica\", 12)\n",
    "text.textLines(cadena)\n",
    "c.drawText(text)\n",
    "c.drawImage(\"images/model3/accuracy.png\", 50,400, width=t_images, height=t_images)\n",
    "\n",
    "##Loss modelo 3\n",
    "cadena = \"Graficas de Loss - Modelo3\"\n",
    "text = c.beginText(350, h-190)\n",
    "text.setFont(\"Helvetica\", 12)\n",
    "text.textLines(cadena)\n",
    "c.drawText(text)\n",
    "c.drawImage(\"images/model3/loss.png\", 300, 400, width= t_images, height= t_images)\n",
    "\n",
    "\n",
    "c.showPage()\n",
    "c.save()"
   ]
  },
  {
   "cell_type": "code",
   "execution_count": 111,
   "metadata": {},
   "outputs": [],
   "source": []
  },
  {
   "cell_type": "code",
   "execution_count": 105,
   "metadata": {},
   "outputs": [],
   "source": []
  },
  {
   "cell_type": "code",
   "execution_count": 108,
   "metadata": {},
   "outputs": [
    {
     "data": {
      "text/plain": [
       "(432, 288)"
      ]
     },
     "execution_count": 108,
     "metadata": {},
     "output_type": "execute_result"
    }
   ],
   "source": []
  },
  {
   "cell_type": "code",
   "execution_count": 107,
   "metadata": {},
   "outputs": [],
   "source": []
  },
  {
   "cell_type": "code",
   "execution_count": null,
   "metadata": {},
   "outputs": [],
   "source": []
  },
  {
   "cell_type": "code",
   "execution_count": null,
   "metadata": {},
   "outputs": [],
   "source": []
  },
  {
   "cell_type": "code",
   "execution_count": null,
   "metadata": {},
   "outputs": [],
   "source": []
  },
  {
   "cell_type": "code",
   "execution_count": null,
   "metadata": {},
   "outputs": [],
   "source": []
  },
  {
   "cell_type": "code",
   "execution_count": null,
   "metadata": {},
   "outputs": [],
   "source": []
  },
  {
   "cell_type": "code",
   "execution_count": null,
   "metadata": {},
   "outputs": [],
   "source": []
  },
  {
   "cell_type": "code",
   "execution_count": 94,
   "metadata": {},
   "outputs": [],
   "source": []
  },
  {
   "cell_type": "code",
   "execution_count": null,
   "metadata": {},
   "outputs": [],
   "source": []
  },
  {
   "cell_type": "code",
   "execution_count": null,
   "metadata": {},
   "outputs": [],
   "source": []
  }
 ],
 "metadata": {
  "kernelspec": {
   "display_name": "Python 3",
   "language": "python",
   "name": "python3"
  },
  "language_info": {
   "codemirror_mode": {
    "name": "ipython",
    "version": 3
   },
   "file_extension": ".py",
   "mimetype": "text/x-python",
   "name": "python",
   "nbconvert_exporter": "python",
   "pygments_lexer": "ipython3",
   "version": "3.7.6"
  }
 },
 "nbformat": 4,
 "nbformat_minor": 4
}
