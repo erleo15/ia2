{
 "cells": [
  {
   "cell_type": "code",
   "execution_count": 237,
   "metadata": {},
   "outputs": [],
   "source": [
    "import pandas as pd;\n",
    "import numpy as np;\n",
    "from matplotlib import pyplot as pp\n",
    "\n",
    "from PIL import Image # Importamos la clase Image de la librería **pillow**\n",
    "from matplotlib import image\n",
    "from random import randint\n",
    "import os\n",
    "import pathlib\n",
    "\n",
    "from sklearn.preprocessing import StandardScaler, OneHotEncoder\n",
    "from sklearn.model_selection import train_test_split\n",
    "from sklearn.metrics import accuracy_score\n",
    "\n",
    "import keras\n",
    "from keras.models import Sequential # Es una RNA que tiene conexión hacia adelante\n",
    "from keras.layers import Dense # Representa las capas de la RNA\n",
    "from sklearn.metrics import confusion_matrix\n",
    "\n",
    "\n",
    "#################\n",
    "from keras.utils import to_categorical\n",
    "from keras.models import Sequential,Input,Model\n",
    "from keras.layers import Dense, Dropout, Flatten\n",
    "from keras.layers import Conv2D, MaxPooling2D\n",
    "from keras.layers.normalization import BatchNormalization\n",
    "from keras.layers.advanced_activations import LeakyReLU\n",
    "%matplotlib inline"
   ]
  },
  {
   "cell_type": "code",
   "execution_count": 238,
   "metadata": {},
   "outputs": [],
   "source": [
    "def obtenerVector(imagen): \n",
    "    data = np.asarray(image.imread(imagen))   \n",
    "    return [value for row in data for value in row]\n",
    "    "
   ]
  },
  {
   "cell_type": "code",
   "execution_count": 239,
   "metadata": {},
   "outputs": [
    {
     "name": "stdout",
     "output_type": "stream",
     "text": [
      "1 character_10_yna\n",
      "2 character_11_taamatar\n",
      "3 character_12_thaa\n",
      "4 character_13_daa\n",
      "5 character_14_dhaa\n",
      "6 character_15_adna\n",
      "7 character_16_tabala\n",
      "8 character_17_tha\n",
      "9 character_18_da\n",
      "10 character_19_dha\n",
      "11 character_1_ka\n",
      "12 character_20_na\n",
      "13 character_21_pa\n",
      "14 character_22_pha\n",
      "15 character_23_ba\n",
      "16 character_24_bha\n",
      "17 character_25_ma\n",
      "18 character_26_yaw\n",
      "19 character_27_ra\n",
      "20 character_28_la\n",
      "21 character_29_waw\n",
      "22 character_2_kha\n",
      "23 character_30_motosaw\n",
      "24 character_31_petchiryakha\n",
      "25 character_32_patalosaw\n",
      "26 character_33_ha\n",
      "27 character_34_chhya\n",
      "28 character_35_tra\n",
      "29 character_36_gya\n",
      "30 character_3_ga\n",
      "31 character_4_gha\n",
      "32 character_5_kna\n",
      "33 character_6_cha\n",
      "34 character_7_chha\n",
      "35 character_8_ja\n",
      "36 character_9_jha\n",
      "37 digit_0\n",
      "38 digit_1\n",
      "39 digit_2\n",
      "40 digit_3\n",
      "41 digit_4\n",
      "42 digit_5\n",
      "43 digit_6\n",
      "44 digit_7\n",
      "45 digit_8\n",
      "46 digit_9\n",
      "Elapsed time: 109.1718924046 seconds.\n"
     ]
    },
    {
     "data": {
      "text/html": [
       "<div>\n",
       "<style scoped>\n",
       "    .dataframe tbody tr th:only-of-type {\n",
       "        vertical-align: middle;\n",
       "    }\n",
       "\n",
       "    .dataframe tbody tr th {\n",
       "        vertical-align: top;\n",
       "    }\n",
       "\n",
       "    .dataframe thead th {\n",
       "        text-align: right;\n",
       "    }\n",
       "</style>\n",
       "<table border=\"1\" class=\"dataframe\">\n",
       "  <thead>\n",
       "    <tr style=\"text-align: right;\">\n",
       "      <th></th>\n",
       "      <th>0</th>\n",
       "      <th>1</th>\n",
       "      <th>2</th>\n",
       "      <th>3</th>\n",
       "      <th>4</th>\n",
       "      <th>5</th>\n",
       "      <th>6</th>\n",
       "      <th>7</th>\n",
       "      <th>8</th>\n",
       "      <th>9</th>\n",
       "      <th>...</th>\n",
       "      <th>1015</th>\n",
       "      <th>1016</th>\n",
       "      <th>1017</th>\n",
       "      <th>1018</th>\n",
       "      <th>1019</th>\n",
       "      <th>1020</th>\n",
       "      <th>1021</th>\n",
       "      <th>1022</th>\n",
       "      <th>1023</th>\n",
       "      <th>salida</th>\n",
       "    </tr>\n",
       "  </thead>\n",
       "  <tbody>\n",
       "    <tr>\n",
       "      <th>0</th>\n",
       "      <td>0</td>\n",
       "      <td>0</td>\n",
       "      <td>0</td>\n",
       "      <td>0</td>\n",
       "      <td>0</td>\n",
       "      <td>0</td>\n",
       "      <td>0</td>\n",
       "      <td>0</td>\n",
       "      <td>0</td>\n",
       "      <td>0</td>\n",
       "      <td>...</td>\n",
       "      <td>0</td>\n",
       "      <td>0</td>\n",
       "      <td>0</td>\n",
       "      <td>0</td>\n",
       "      <td>0</td>\n",
       "      <td>0</td>\n",
       "      <td>0</td>\n",
       "      <td>0</td>\n",
       "      <td>0</td>\n",
       "      <td>character_10_yna</td>\n",
       "    </tr>\n",
       "    <tr>\n",
       "      <th>1</th>\n",
       "      <td>0</td>\n",
       "      <td>0</td>\n",
       "      <td>0</td>\n",
       "      <td>0</td>\n",
       "      <td>0</td>\n",
       "      <td>0</td>\n",
       "      <td>0</td>\n",
       "      <td>0</td>\n",
       "      <td>0</td>\n",
       "      <td>0</td>\n",
       "      <td>...</td>\n",
       "      <td>0</td>\n",
       "      <td>0</td>\n",
       "      <td>0</td>\n",
       "      <td>0</td>\n",
       "      <td>0</td>\n",
       "      <td>0</td>\n",
       "      <td>0</td>\n",
       "      <td>0</td>\n",
       "      <td>0</td>\n",
       "      <td>character_10_yna</td>\n",
       "    </tr>\n",
       "    <tr>\n",
       "      <th>2</th>\n",
       "      <td>0</td>\n",
       "      <td>0</td>\n",
       "      <td>0</td>\n",
       "      <td>0</td>\n",
       "      <td>0</td>\n",
       "      <td>0</td>\n",
       "      <td>0</td>\n",
       "      <td>0</td>\n",
       "      <td>0</td>\n",
       "      <td>0</td>\n",
       "      <td>...</td>\n",
       "      <td>0</td>\n",
       "      <td>0</td>\n",
       "      <td>0</td>\n",
       "      <td>0</td>\n",
       "      <td>0</td>\n",
       "      <td>0</td>\n",
       "      <td>0</td>\n",
       "      <td>0</td>\n",
       "      <td>0</td>\n",
       "      <td>character_10_yna</td>\n",
       "    </tr>\n",
       "    <tr>\n",
       "      <th>3</th>\n",
       "      <td>0</td>\n",
       "      <td>0</td>\n",
       "      <td>0</td>\n",
       "      <td>0</td>\n",
       "      <td>0</td>\n",
       "      <td>0</td>\n",
       "      <td>0</td>\n",
       "      <td>0</td>\n",
       "      <td>0</td>\n",
       "      <td>0</td>\n",
       "      <td>...</td>\n",
       "      <td>0</td>\n",
       "      <td>0</td>\n",
       "      <td>0</td>\n",
       "      <td>0</td>\n",
       "      <td>0</td>\n",
       "      <td>0</td>\n",
       "      <td>0</td>\n",
       "      <td>0</td>\n",
       "      <td>0</td>\n",
       "      <td>character_10_yna</td>\n",
       "    </tr>\n",
       "    <tr>\n",
       "      <th>4</th>\n",
       "      <td>0</td>\n",
       "      <td>0</td>\n",
       "      <td>0</td>\n",
       "      <td>0</td>\n",
       "      <td>0</td>\n",
       "      <td>0</td>\n",
       "      <td>0</td>\n",
       "      <td>0</td>\n",
       "      <td>0</td>\n",
       "      <td>0</td>\n",
       "      <td>...</td>\n",
       "      <td>0</td>\n",
       "      <td>0</td>\n",
       "      <td>0</td>\n",
       "      <td>0</td>\n",
       "      <td>0</td>\n",
       "      <td>0</td>\n",
       "      <td>0</td>\n",
       "      <td>0</td>\n",
       "      <td>0</td>\n",
       "      <td>character_10_yna</td>\n",
       "    </tr>\n",
       "    <tr>\n",
       "      <th>...</th>\n",
       "      <td>...</td>\n",
       "      <td>...</td>\n",
       "      <td>...</td>\n",
       "      <td>...</td>\n",
       "      <td>...</td>\n",
       "      <td>...</td>\n",
       "      <td>...</td>\n",
       "      <td>...</td>\n",
       "      <td>...</td>\n",
       "      <td>...</td>\n",
       "      <td>...</td>\n",
       "      <td>...</td>\n",
       "      <td>...</td>\n",
       "      <td>...</td>\n",
       "      <td>...</td>\n",
       "      <td>...</td>\n",
       "      <td>...</td>\n",
       "      <td>...</td>\n",
       "      <td>...</td>\n",
       "      <td>...</td>\n",
       "      <td>...</td>\n",
       "    </tr>\n",
       "    <tr>\n",
       "      <th>78195</th>\n",
       "      <td>0</td>\n",
       "      <td>0</td>\n",
       "      <td>0</td>\n",
       "      <td>0</td>\n",
       "      <td>0</td>\n",
       "      <td>0</td>\n",
       "      <td>0</td>\n",
       "      <td>0</td>\n",
       "      <td>0</td>\n",
       "      <td>0</td>\n",
       "      <td>...</td>\n",
       "      <td>0</td>\n",
       "      <td>0</td>\n",
       "      <td>0</td>\n",
       "      <td>0</td>\n",
       "      <td>0</td>\n",
       "      <td>0</td>\n",
       "      <td>0</td>\n",
       "      <td>0</td>\n",
       "      <td>0</td>\n",
       "      <td>digit_9</td>\n",
       "    </tr>\n",
       "    <tr>\n",
       "      <th>78196</th>\n",
       "      <td>0</td>\n",
       "      <td>0</td>\n",
       "      <td>0</td>\n",
       "      <td>0</td>\n",
       "      <td>0</td>\n",
       "      <td>0</td>\n",
       "      <td>0</td>\n",
       "      <td>0</td>\n",
       "      <td>0</td>\n",
       "      <td>0</td>\n",
       "      <td>...</td>\n",
       "      <td>0</td>\n",
       "      <td>0</td>\n",
       "      <td>0</td>\n",
       "      <td>0</td>\n",
       "      <td>0</td>\n",
       "      <td>0</td>\n",
       "      <td>0</td>\n",
       "      <td>0</td>\n",
       "      <td>0</td>\n",
       "      <td>digit_9</td>\n",
       "    </tr>\n",
       "    <tr>\n",
       "      <th>78197</th>\n",
       "      <td>0</td>\n",
       "      <td>0</td>\n",
       "      <td>0</td>\n",
       "      <td>0</td>\n",
       "      <td>0</td>\n",
       "      <td>0</td>\n",
       "      <td>0</td>\n",
       "      <td>0</td>\n",
       "      <td>0</td>\n",
       "      <td>0</td>\n",
       "      <td>...</td>\n",
       "      <td>0</td>\n",
       "      <td>0</td>\n",
       "      <td>0</td>\n",
       "      <td>0</td>\n",
       "      <td>0</td>\n",
       "      <td>0</td>\n",
       "      <td>0</td>\n",
       "      <td>0</td>\n",
       "      <td>0</td>\n",
       "      <td>digit_9</td>\n",
       "    </tr>\n",
       "    <tr>\n",
       "      <th>78198</th>\n",
       "      <td>0</td>\n",
       "      <td>0</td>\n",
       "      <td>0</td>\n",
       "      <td>0</td>\n",
       "      <td>0</td>\n",
       "      <td>0</td>\n",
       "      <td>0</td>\n",
       "      <td>0</td>\n",
       "      <td>0</td>\n",
       "      <td>0</td>\n",
       "      <td>...</td>\n",
       "      <td>0</td>\n",
       "      <td>0</td>\n",
       "      <td>0</td>\n",
       "      <td>0</td>\n",
       "      <td>0</td>\n",
       "      <td>0</td>\n",
       "      <td>0</td>\n",
       "      <td>0</td>\n",
       "      <td>0</td>\n",
       "      <td>digit_9</td>\n",
       "    </tr>\n",
       "    <tr>\n",
       "      <th>78199</th>\n",
       "      <td>0</td>\n",
       "      <td>0</td>\n",
       "      <td>0</td>\n",
       "      <td>0</td>\n",
       "      <td>0</td>\n",
       "      <td>0</td>\n",
       "      <td>0</td>\n",
       "      <td>0</td>\n",
       "      <td>0</td>\n",
       "      <td>0</td>\n",
       "      <td>...</td>\n",
       "      <td>0</td>\n",
       "      <td>0</td>\n",
       "      <td>0</td>\n",
       "      <td>0</td>\n",
       "      <td>0</td>\n",
       "      <td>0</td>\n",
       "      <td>0</td>\n",
       "      <td>0</td>\n",
       "      <td>0</td>\n",
       "      <td>digit_9</td>\n",
       "    </tr>\n",
       "  </tbody>\n",
       "</table>\n",
       "<p>78200 rows × 1025 columns</p>\n",
       "</div>"
      ],
      "text/plain": [
       "       0  1  2  3  4  5  6  7  8  9  ... 1015 1016 1017 1018 1019 1020 1021  \\\n",
       "0      0  0  0  0  0  0  0  0  0  0  ...    0    0    0    0    0    0    0   \n",
       "1      0  0  0  0  0  0  0  0  0  0  ...    0    0    0    0    0    0    0   \n",
       "2      0  0  0  0  0  0  0  0  0  0  ...    0    0    0    0    0    0    0   \n",
       "3      0  0  0  0  0  0  0  0  0  0  ...    0    0    0    0    0    0    0   \n",
       "4      0  0  0  0  0  0  0  0  0  0  ...    0    0    0    0    0    0    0   \n",
       "...   .. .. .. .. .. .. .. .. .. ..  ...  ...  ...  ...  ...  ...  ...  ...   \n",
       "78195  0  0  0  0  0  0  0  0  0  0  ...    0    0    0    0    0    0    0   \n",
       "78196  0  0  0  0  0  0  0  0  0  0  ...    0    0    0    0    0    0    0   \n",
       "78197  0  0  0  0  0  0  0  0  0  0  ...    0    0    0    0    0    0    0   \n",
       "78198  0  0  0  0  0  0  0  0  0  0  ...    0    0    0    0    0    0    0   \n",
       "78199  0  0  0  0  0  0  0  0  0  0  ...    0    0    0    0    0    0    0   \n",
       "\n",
       "      1022 1023            salida  \n",
       "0        0    0  character_10_yna  \n",
       "1        0    0  character_10_yna  \n",
       "2        0    0  character_10_yna  \n",
       "3        0    0  character_10_yna  \n",
       "4        0    0  character_10_yna  \n",
       "...    ...  ...               ...  \n",
       "78195    0    0           digit_9  \n",
       "78196    0    0           digit_9  \n",
       "78197    0    0           digit_9  \n",
       "78198    0    0           digit_9  \n",
       "78199    0    0           digit_9  \n",
       "\n",
       "[78200 rows x 1025 columns]"
      ]
     },
     "execution_count": 239,
     "metadata": {},
     "output_type": "execute_result"
    }
   ],
   "source": [
    "from time import time\n",
    "path = 'corpus/'\n",
    "carpetas = os.listdir(path)#lista de carpetas dentro de nuestro dataset\n",
    "numImagenes = sum([len(os.listdir(path+i)) for i in carpetas])\n",
    "columnas = [i for i in range(1024)]\n",
    "index = [i for i in range(numImagenes)]\n",
    "df = pd.DataFrame(columns = columnas+['salida'], index = index)\n",
    "start_time = time()\n",
    "i = 0\n",
    "j = 0\n",
    "for carpeta in carpetas:\n",
    "    for imagen in os.listdir(path+carpeta):  \n",
    "        imgPath = path+carpeta+'/'+imagen; \n",
    "        filaImagen = obtenerVector(imgPath) \n",
    "        df.loc[j] = filaImagen+[carpeta]\n",
    "        filaImagen=[]\n",
    "        j+=1;\n",
    "    i+=1;\n",
    "    print(i,carpeta);\n",
    "elapsed_time = time() - start_time\n",
    "print(\"Elapsed time: %0.10f seconds.\" % elapsed_time)\n",
    "df"
   ]
  },
  {
   "cell_type": "code",
   "execution_count": 240,
   "metadata": {
    "scrolled": true
   },
   "outputs": [
    {
     "data": {
      "text/html": [
       "<div>\n",
       "<style scoped>\n",
       "    .dataframe tbody tr th:only-of-type {\n",
       "        vertical-align: middle;\n",
       "    }\n",
       "\n",
       "    .dataframe tbody tr th {\n",
       "        vertical-align: top;\n",
       "    }\n",
       "\n",
       "    .dataframe thead th {\n",
       "        text-align: right;\n",
       "    }\n",
       "</style>\n",
       "<table border=\"1\" class=\"dataframe\">\n",
       "  <thead>\n",
       "    <tr style=\"text-align: right;\">\n",
       "      <th></th>\n",
       "      <th>0</th>\n",
       "      <th>1</th>\n",
       "      <th>2</th>\n",
       "      <th>3</th>\n",
       "      <th>4</th>\n",
       "      <th>5</th>\n",
       "      <th>6</th>\n",
       "      <th>7</th>\n",
       "      <th>8</th>\n",
       "      <th>9</th>\n",
       "      <th>...</th>\n",
       "      <th>1015</th>\n",
       "      <th>1016</th>\n",
       "      <th>1017</th>\n",
       "      <th>1018</th>\n",
       "      <th>1019</th>\n",
       "      <th>1020</th>\n",
       "      <th>1021</th>\n",
       "      <th>1022</th>\n",
       "      <th>1023</th>\n",
       "      <th>salida</th>\n",
       "    </tr>\n",
       "  </thead>\n",
       "  <tbody>\n",
       "    <tr>\n",
       "      <th>0</th>\n",
       "      <td>0</td>\n",
       "      <td>0</td>\n",
       "      <td>0</td>\n",
       "      <td>0</td>\n",
       "      <td>0</td>\n",
       "      <td>0</td>\n",
       "      <td>0</td>\n",
       "      <td>0</td>\n",
       "      <td>0</td>\n",
       "      <td>0</td>\n",
       "      <td>...</td>\n",
       "      <td>0</td>\n",
       "      <td>0</td>\n",
       "      <td>0</td>\n",
       "      <td>0</td>\n",
       "      <td>0</td>\n",
       "      <td>0</td>\n",
       "      <td>0</td>\n",
       "      <td>0</td>\n",
       "      <td>0</td>\n",
       "      <td>0</td>\n",
       "    </tr>\n",
       "    <tr>\n",
       "      <th>1</th>\n",
       "      <td>0</td>\n",
       "      <td>0</td>\n",
       "      <td>0</td>\n",
       "      <td>0</td>\n",
       "      <td>0</td>\n",
       "      <td>0</td>\n",
       "      <td>0</td>\n",
       "      <td>0</td>\n",
       "      <td>0</td>\n",
       "      <td>0</td>\n",
       "      <td>...</td>\n",
       "      <td>0</td>\n",
       "      <td>0</td>\n",
       "      <td>0</td>\n",
       "      <td>0</td>\n",
       "      <td>0</td>\n",
       "      <td>0</td>\n",
       "      <td>0</td>\n",
       "      <td>0</td>\n",
       "      <td>0</td>\n",
       "      <td>0</td>\n",
       "    </tr>\n",
       "    <tr>\n",
       "      <th>2</th>\n",
       "      <td>0</td>\n",
       "      <td>0</td>\n",
       "      <td>0</td>\n",
       "      <td>0</td>\n",
       "      <td>0</td>\n",
       "      <td>0</td>\n",
       "      <td>0</td>\n",
       "      <td>0</td>\n",
       "      <td>0</td>\n",
       "      <td>0</td>\n",
       "      <td>...</td>\n",
       "      <td>0</td>\n",
       "      <td>0</td>\n",
       "      <td>0</td>\n",
       "      <td>0</td>\n",
       "      <td>0</td>\n",
       "      <td>0</td>\n",
       "      <td>0</td>\n",
       "      <td>0</td>\n",
       "      <td>0</td>\n",
       "      <td>0</td>\n",
       "    </tr>\n",
       "    <tr>\n",
       "      <th>3</th>\n",
       "      <td>0</td>\n",
       "      <td>0</td>\n",
       "      <td>0</td>\n",
       "      <td>0</td>\n",
       "      <td>0</td>\n",
       "      <td>0</td>\n",
       "      <td>0</td>\n",
       "      <td>0</td>\n",
       "      <td>0</td>\n",
       "      <td>0</td>\n",
       "      <td>...</td>\n",
       "      <td>0</td>\n",
       "      <td>0</td>\n",
       "      <td>0</td>\n",
       "      <td>0</td>\n",
       "      <td>0</td>\n",
       "      <td>0</td>\n",
       "      <td>0</td>\n",
       "      <td>0</td>\n",
       "      <td>0</td>\n",
       "      <td>0</td>\n",
       "    </tr>\n",
       "    <tr>\n",
       "      <th>4</th>\n",
       "      <td>0</td>\n",
       "      <td>0</td>\n",
       "      <td>0</td>\n",
       "      <td>0</td>\n",
       "      <td>0</td>\n",
       "      <td>0</td>\n",
       "      <td>0</td>\n",
       "      <td>0</td>\n",
       "      <td>0</td>\n",
       "      <td>0</td>\n",
       "      <td>...</td>\n",
       "      <td>0</td>\n",
       "      <td>0</td>\n",
       "      <td>0</td>\n",
       "      <td>0</td>\n",
       "      <td>0</td>\n",
       "      <td>0</td>\n",
       "      <td>0</td>\n",
       "      <td>0</td>\n",
       "      <td>0</td>\n",
       "      <td>0</td>\n",
       "    </tr>\n",
       "    <tr>\n",
       "      <th>...</th>\n",
       "      <td>...</td>\n",
       "      <td>...</td>\n",
       "      <td>...</td>\n",
       "      <td>...</td>\n",
       "      <td>...</td>\n",
       "      <td>...</td>\n",
       "      <td>...</td>\n",
       "      <td>...</td>\n",
       "      <td>...</td>\n",
       "      <td>...</td>\n",
       "      <td>...</td>\n",
       "      <td>...</td>\n",
       "      <td>...</td>\n",
       "      <td>...</td>\n",
       "      <td>...</td>\n",
       "      <td>...</td>\n",
       "      <td>...</td>\n",
       "      <td>...</td>\n",
       "      <td>...</td>\n",
       "      <td>...</td>\n",
       "      <td>...</td>\n",
       "    </tr>\n",
       "    <tr>\n",
       "      <th>78195</th>\n",
       "      <td>0</td>\n",
       "      <td>0</td>\n",
       "      <td>0</td>\n",
       "      <td>0</td>\n",
       "      <td>0</td>\n",
       "      <td>0</td>\n",
       "      <td>0</td>\n",
       "      <td>0</td>\n",
       "      <td>0</td>\n",
       "      <td>0</td>\n",
       "      <td>...</td>\n",
       "      <td>0</td>\n",
       "      <td>0</td>\n",
       "      <td>0</td>\n",
       "      <td>0</td>\n",
       "      <td>0</td>\n",
       "      <td>0</td>\n",
       "      <td>0</td>\n",
       "      <td>0</td>\n",
       "      <td>0</td>\n",
       "      <td>45</td>\n",
       "    </tr>\n",
       "    <tr>\n",
       "      <th>78196</th>\n",
       "      <td>0</td>\n",
       "      <td>0</td>\n",
       "      <td>0</td>\n",
       "      <td>0</td>\n",
       "      <td>0</td>\n",
       "      <td>0</td>\n",
       "      <td>0</td>\n",
       "      <td>0</td>\n",
       "      <td>0</td>\n",
       "      <td>0</td>\n",
       "      <td>...</td>\n",
       "      <td>0</td>\n",
       "      <td>0</td>\n",
       "      <td>0</td>\n",
       "      <td>0</td>\n",
       "      <td>0</td>\n",
       "      <td>0</td>\n",
       "      <td>0</td>\n",
       "      <td>0</td>\n",
       "      <td>0</td>\n",
       "      <td>45</td>\n",
       "    </tr>\n",
       "    <tr>\n",
       "      <th>78197</th>\n",
       "      <td>0</td>\n",
       "      <td>0</td>\n",
       "      <td>0</td>\n",
       "      <td>0</td>\n",
       "      <td>0</td>\n",
       "      <td>0</td>\n",
       "      <td>0</td>\n",
       "      <td>0</td>\n",
       "      <td>0</td>\n",
       "      <td>0</td>\n",
       "      <td>...</td>\n",
       "      <td>0</td>\n",
       "      <td>0</td>\n",
       "      <td>0</td>\n",
       "      <td>0</td>\n",
       "      <td>0</td>\n",
       "      <td>0</td>\n",
       "      <td>0</td>\n",
       "      <td>0</td>\n",
       "      <td>0</td>\n",
       "      <td>45</td>\n",
       "    </tr>\n",
       "    <tr>\n",
       "      <th>78198</th>\n",
       "      <td>0</td>\n",
       "      <td>0</td>\n",
       "      <td>0</td>\n",
       "      <td>0</td>\n",
       "      <td>0</td>\n",
       "      <td>0</td>\n",
       "      <td>0</td>\n",
       "      <td>0</td>\n",
       "      <td>0</td>\n",
       "      <td>0</td>\n",
       "      <td>...</td>\n",
       "      <td>0</td>\n",
       "      <td>0</td>\n",
       "      <td>0</td>\n",
       "      <td>0</td>\n",
       "      <td>0</td>\n",
       "      <td>0</td>\n",
       "      <td>0</td>\n",
       "      <td>0</td>\n",
       "      <td>0</td>\n",
       "      <td>45</td>\n",
       "    </tr>\n",
       "    <tr>\n",
       "      <th>78199</th>\n",
       "      <td>0</td>\n",
       "      <td>0</td>\n",
       "      <td>0</td>\n",
       "      <td>0</td>\n",
       "      <td>0</td>\n",
       "      <td>0</td>\n",
       "      <td>0</td>\n",
       "      <td>0</td>\n",
       "      <td>0</td>\n",
       "      <td>0</td>\n",
       "      <td>...</td>\n",
       "      <td>0</td>\n",
       "      <td>0</td>\n",
       "      <td>0</td>\n",
       "      <td>0</td>\n",
       "      <td>0</td>\n",
       "      <td>0</td>\n",
       "      <td>0</td>\n",
       "      <td>0</td>\n",
       "      <td>0</td>\n",
       "      <td>45</td>\n",
       "    </tr>\n",
       "  </tbody>\n",
       "</table>\n",
       "<p>78200 rows × 1025 columns</p>\n",
       "</div>"
      ],
      "text/plain": [
       "       0  1  2  3  4  5  6  7  8  9  ... 1015 1016 1017 1018 1019 1020 1021  \\\n",
       "0      0  0  0  0  0  0  0  0  0  0  ...    0    0    0    0    0    0    0   \n",
       "1      0  0  0  0  0  0  0  0  0  0  ...    0    0    0    0    0    0    0   \n",
       "2      0  0  0  0  0  0  0  0  0  0  ...    0    0    0    0    0    0    0   \n",
       "3      0  0  0  0  0  0  0  0  0  0  ...    0    0    0    0    0    0    0   \n",
       "4      0  0  0  0  0  0  0  0  0  0  ...    0    0    0    0    0    0    0   \n",
       "...   .. .. .. .. .. .. .. .. .. ..  ...  ...  ...  ...  ...  ...  ...  ...   \n",
       "78195  0  0  0  0  0  0  0  0  0  0  ...    0    0    0    0    0    0    0   \n",
       "78196  0  0  0  0  0  0  0  0  0  0  ...    0    0    0    0    0    0    0   \n",
       "78197  0  0  0  0  0  0  0  0  0  0  ...    0    0    0    0    0    0    0   \n",
       "78198  0  0  0  0  0  0  0  0  0  0  ...    0    0    0    0    0    0    0   \n",
       "78199  0  0  0  0  0  0  0  0  0  0  ...    0    0    0    0    0    0    0   \n",
       "\n",
       "      1022 1023 salida  \n",
       "0        0    0      0  \n",
       "1        0    0      0  \n",
       "2        0    0      0  \n",
       "3        0    0      0  \n",
       "4        0    0      0  \n",
       "...    ...  ...    ...  \n",
       "78195    0    0     45  \n",
       "78196    0    0     45  \n",
       "78197    0    0     45  \n",
       "78198    0    0     45  \n",
       "78199    0    0     45  \n",
       "\n",
       "[78200 rows x 1025 columns]"
      ]
     },
     "execution_count": 240,
     "metadata": {},
     "output_type": "execute_result"
    }
   ],
   "source": [
    "df.iloc[:, len(columnas)] = df.iloc[:, len(columnas)].astype('category').cat.codes\n",
    "df"
   ]
  },
  {
   "cell_type": "code",
   "execution_count": 241,
   "metadata": {},
   "outputs": [
    {
     "data": {
      "text/plain": [
       "array([[0., 0., 0., ..., 0., 0., 0.],\n",
       "       [0., 0., 0., ..., 0., 0., 0.],\n",
       "       [0., 0., 0., ..., 0., 0., 0.],\n",
       "       ...,\n",
       "       [0., 0., 0., ..., 0., 0., 0.],\n",
       "       [0., 0., 0., ..., 0., 0., 0.],\n",
       "       [0., 0., 0., ..., 0., 0., 0.]])"
      ]
     },
     "execution_count": 241,
     "metadata": {},
     "output_type": "execute_result"
    }
   ],
   "source": [
    "scaler = StandardScaler()\n",
    "\n",
    "x = df.iloc[:, 0:len(columnas)].values\n",
    "#x = to_categorical(x)\n",
    "x = scaler.fit_transform(x)\n",
    "x"
   ]
  },
  {
   "cell_type": "code",
   "execution_count": 242,
   "metadata": {},
   "outputs": [],
   "source": [
    "y = df.iloc[:, len(columnas):len(columnas)+1].values\n",
    "encoder = OneHotEncoder()\n",
    "y = encoder.fit_transform(y).toarray()\n",
    "#y = to_categorical(y)"
   ]
  },
  {
   "cell_type": "code",
   "execution_count": 243,
   "metadata": {},
   "outputs": [],
   "source": [
    "x_train, x_test, y_train, y_test = train_test_split(x, y, test_size = 0.2, stratify = y)"
   ]
  },
  {
   "cell_type": "code",
   "execution_count": 244,
   "metadata": {},
   "outputs": [
    {
     "data": {
      "text/plain": [
       "62560"
      ]
     },
     "execution_count": 244,
     "metadata": {},
     "output_type": "execute_result"
    }
   ],
   "source": [
    "len(x_train)"
   ]
  },
  {
   "cell_type": "code",
   "execution_count": 245,
   "metadata": {
    "scrolled": true
   },
   "outputs": [
    {
     "name": "stdout",
     "output_type": "stream",
     "text": [
      "Train on 62560 samples, validate on 15640 samples\n",
      "Epoch 1/35\n",
      "62560/62560 [==============================] - 18s 289us/step - loss: 2.1373 - accuracy: 0.4089 - val_loss: 1.3486 - val_accuracy: 0.6129\n",
      "Epoch 2/35\n",
      "62560/62560 [==============================] - 18s 283us/step - loss: 1.0489 - accuracy: 0.7015 - val_loss: 0.9931 - val_accuracy: 0.7258\n",
      "Epoch 3/35\n",
      "62560/62560 [==============================] - 18s 292us/step - loss: 0.7825 - accuracy: 0.7729 - val_loss: 0.8990 - val_accuracy: 0.7500\n",
      "Epoch 4/35\n",
      "62560/62560 [==============================] - 18s 288us/step - loss: 0.6337 - accuracy: 0.8143 - val_loss: 0.8588 - val_accuracy: 0.7664\n",
      "Epoch 5/35\n",
      "62560/62560 [==============================] - 18s 293us/step - loss: 0.5306 - accuracy: 0.8418 - val_loss: 0.7947 - val_accuracy: 0.7882\n",
      "Epoch 6/35\n",
      "62560/62560 [==============================] - 18s 288us/step - loss: 0.4619 - accuracy: 0.8609 - val_loss: 0.8091 - val_accuracy: 0.7910\n",
      "Epoch 7/35\n",
      "62560/62560 [==============================] - 18s 289us/step - loss: 0.3991 - accuracy: 0.8769 - val_loss: 0.7979 - val_accuracy: 0.8038\n",
      "Epoch 8/35\n",
      "62560/62560 [==============================] - 18s 291us/step - loss: 0.3535 - accuracy: 0.8919 - val_loss: 0.7903 - val_accuracy: 0.8131\n",
      "Epoch 9/35\n",
      "62560/62560 [==============================] - 18s 292us/step - loss: 0.3126 - accuracy: 0.9033 - val_loss: 0.8839 - val_accuracy: 0.8019\n",
      "Epoch 10/35\n",
      "62560/62560 [==============================] - 18s 287us/step - loss: 0.2861 - accuracy: 0.9105 - val_loss: 0.8374 - val_accuracy: 0.8152\n",
      "Epoch 11/35\n",
      "62560/62560 [==============================] - 18s 287us/step - loss: 0.2558 - accuracy: 0.9206 - val_loss: 0.8728 - val_accuracy: 0.8148\n",
      "Epoch 12/35\n",
      "62560/62560 [==============================] - 18s 289us/step - loss: 0.2377 - accuracy: 0.9261 - val_loss: 0.8784 - val_accuracy: 0.8158\n",
      "Epoch 13/35\n",
      "62560/62560 [==============================] - 18s 290us/step - loss: 0.2216 - accuracy: 0.9302 - val_loss: 0.9267 - val_accuracy: 0.8115\n",
      "Epoch 14/35\n",
      "62560/62560 [==============================] - 18s 288us/step - loss: 0.2087 - accuracy: 0.9342 - val_loss: 0.9191 - val_accuracy: 0.8221\n",
      "Epoch 15/35\n",
      "62560/62560 [==============================] - 18s 287us/step - loss: 0.1915 - accuracy: 0.9398 - val_loss: 0.9779 - val_accuracy: 0.8141\n",
      "Epoch 16/35\n",
      "62560/62560 [==============================] - 18s 287us/step - loss: 0.1876 - accuracy: 0.9413 - val_loss: 0.9621 - val_accuracy: 0.8219\n",
      "Epoch 17/35\n",
      "62560/62560 [==============================] - 18s 289us/step - loss: 0.1751 - accuracy: 0.9457 - val_loss: 1.1329 - val_accuracy: 0.8073\n",
      "Epoch 18/35\n",
      "62560/62560 [==============================] - 18s 287us/step - loss: 0.1676 - accuracy: 0.9481 - val_loss: 1.0355 - val_accuracy: 0.8186\n",
      "Epoch 19/35\n",
      "62560/62560 [==============================] - 18s 291us/step - loss: 0.1481 - accuracy: 0.9532 - val_loss: 1.0421 - val_accuracy: 0.8249\n",
      "Epoch 20/35\n",
      "62560/62560 [==============================] - 18s 289us/step - loss: 0.1573 - accuracy: 0.9504 - val_loss: 1.0251 - val_accuracy: 0.8248\n",
      "Epoch 21/35\n",
      "62560/62560 [==============================] - 18s 292us/step - loss: 0.1496 - accuracy: 0.9546 - val_loss: 1.0436 - val_accuracy: 0.8304\n",
      "Epoch 22/35\n",
      "62560/62560 [==============================] - 18s 290us/step - loss: 0.1323 - accuracy: 0.9589 - val_loss: 1.0793 - val_accuracy: 0.8263\n",
      "Epoch 23/35\n",
      "62560/62560 [==============================] - 18s 290us/step - loss: 0.1340 - accuracy: 0.9585 - val_loss: 1.0933 - val_accuracy: 0.8225\n",
      "Epoch 24/35\n",
      "62560/62560 [==============================] - 18s 286us/step - loss: 0.1284 - accuracy: 0.9601 - val_loss: 1.1117 - val_accuracy: 0.8267\n",
      "Epoch 25/35\n",
      "62560/62560 [==============================] - 18s 287us/step - loss: 0.1291 - accuracy: 0.9604 - val_loss: 1.0994 - val_accuracy: 0.8297\n",
      "Epoch 26/35\n",
      "62560/62560 [==============================] - 18s 293us/step - loss: 0.1204 - accuracy: 0.9624 - val_loss: 1.1362 - val_accuracy: 0.8256\n",
      "Epoch 27/35\n",
      "62560/62560 [==============================] - 18s 292us/step - loss: 0.1100 - accuracy: 0.9662 - val_loss: 1.1430 - val_accuracy: 0.8263\n",
      "Epoch 28/35\n",
      "62560/62560 [==============================] - 18s 289us/step - loss: 0.1224 - accuracy: 0.9613 - val_loss: 1.1494 - val_accuracy: 0.8278\n",
      "Epoch 29/35\n",
      "62560/62560 [==============================] - 18s 292us/step - loss: 0.1018 - accuracy: 0.9685 - val_loss: 1.1620 - val_accuracy: 0.8269\n",
      "Epoch 30/35\n",
      "62560/62560 [==============================] - 18s 289us/step - loss: 0.1232 - accuracy: 0.9642 - val_loss: 1.1917 - val_accuracy: 0.8285\n",
      "Epoch 31/35\n",
      "62560/62560 [==============================] - 18s 289us/step - loss: 0.1129 - accuracy: 0.9653 - val_loss: 1.2023 - val_accuracy: 0.8335\n",
      "Epoch 32/35\n",
      "62560/62560 [==============================] - 18s 289us/step - loss: 0.0889 - accuracy: 0.9723 - val_loss: 1.1766 - val_accuracy: 0.8303\n",
      "Epoch 33/35\n",
      "62560/62560 [==============================] - 18s 288us/step - loss: 0.0988 - accuracy: 0.9701 - val_loss: 1.1904 - val_accuracy: 0.8403\n",
      "Epoch 34/35\n",
      "62560/62560 [==============================] - 18s 295us/step - loss: 0.1007 - accuracy: 0.9691 - val_loss: 1.3212 - val_accuracy: 0.8238\n",
      "Epoch 35/35\n",
      "62560/62560 [==============================] - 18s 291us/step - loss: 0.0949 - accuracy: 0.9705 - val_loss: 1.2040 - val_accuracy: 0.8370\n"
     ]
    }
   ],
   "source": [
    "model = Sequential()\n",
    "model.add(Dense(1024, input_dim = 1024, activation = 'relu'))\n",
    "model.add(Dense(10, activation = 'relu'))\n",
    "model.add(Dense(5, activation = 'relu'))\n",
    "model.add(Dense(46, activation = 'softmax'))#Salidas\n",
    "\n",
    "model.compile(loss = 'categorical_crossentropy', optimizer = 'adam', metrics = ['accuracy']) # Precisión\n",
    "historial = model.fit(x_train, y_train, validation_data = (x_test, y_test), epochs = 35, batch_size = 64)"
   ]
  },
  {
   "cell_type": "code",
   "execution_count": 246,
   "metadata": {},
   "outputs": [
    {
     "name": "stdout",
     "output_type": "stream",
     "text": [
      "Precisión:  83.69565217391305\n"
     ]
    }
   ],
   "source": [
    "y_pred1 = model.predict(x_test)\n",
    "\n",
    "pred1 = list()\n",
    "for i in range(len(y_pred1)):\n",
    "    pred1.append(np.argmax(y_pred1[i]))\n",
    "    \n",
    "test1 = list()\n",
    "for i in range(len(y_test)):\n",
    "    test1.append(np.argmax(y_test[i]))\n",
    "    \n",
    "    \n",
    "precision1 = accuracy_score(pred1, test1) # Comparamos lo que predijo la red con las salidas deseadas\n",
    "print('Precisión: ',(precision1*100))"
   ]
  },
  {
   "cell_type": "code",
   "execution_count": 247,
   "metadata": {},
   "outputs": [
    {
     "data": {
      "image/png": "[encoded data removed]",
      "text/plain": [
       "<Figure size 432x288 with 1 Axes>"
      ]
     },
     "metadata": {
      "needs_background": "light"
     },
     "output_type": "display_data"
    }
   ],
   "source": [
    "accuracyval1 = historial.history['val_accuracy']\n",
    "accuracy1 = historial.history['accuracy']\n",
    "pp.plot(historial.history['accuracy'])\n",
    "pp.plot(historial.history['val_accuracy'])\n",
    "pp.title('Precisión de la RNA')\n",
    "pp.ylabel('Precisión')\n",
    "pp.xlabel('Época')\n",
    "pp.legend(['Entrenamiento','Test'], loc='lower right')\n",
    "pp.grid(True)\n",
    "pp.savefig(\"images/model1/accuracy.png\")\n",
    "pp.show()\n"
   ]
  },
  {
   "cell_type": "code",
   "execution_count": 248,
   "metadata": {},
   "outputs": [
    {
     "data": {
      "image/png": "[encoded data removed]",
      "text/plain": [
       "<Figure size 432x288 with 1 Axes>"
      ]
     },
     "metadata": {
      "needs_background": "light"
     },
     "output_type": "display_data"
    }
   ],
   "source": [
    "loss1 = historial.history['loss']\n",
    "lossval1 = historial.history['val_loss']\n",
    "pp.plot(historial.history['loss'])\n",
    "pp.plot(historial.history['val_loss'])\n",
    "pp.title('Loss')\n",
    "pp.ylabel('Loss')\n",
    "pp.xlabel('Época')\n",
    "pp.legend(['Entrenamiento','Test'], loc='upper right')\n",
    "pp.grid(True)\n",
    "pp.savefig(\"images/model1/loss.png\")\n",
    "pp.show() \n"
   ]
  },
  {
   "cell_type": "code",
   "execution_count": 249,
   "metadata": {},
   "outputs": [
    {
     "name": "stdout",
     "output_type": "stream",
     "text": [
      "Saved model to disk\n"
     ]
    }
   ],
   "source": [
    "model.save_weights(\"saved_networks/model_1.h5\")\n",
    "print(\"Saved model to disk\")"
   ]
  },
  {
   "cell_type": "code",
   "execution_count": 250,
   "metadata": {},
   "outputs": [],
   "source": [
    "y_pred_resp1 = encoder.fit_transform( np.array(pred1).reshape(-1,1)).toarray()"
   ]
  },
  {
   "cell_type": "code",
   "execution_count": 251,
   "metadata": {},
   "outputs": [
    {
     "data": {
      "text/plain": [
       "array([[0., 0., 0., ..., 0., 0., 0.],\n",
       "       [0., 0., 0., ..., 0., 0., 0.],\n",
       "       [0., 0., 0., ..., 0., 0., 0.],\n",
       "       ...,\n",
       "       [0., 0., 0., ..., 0., 0., 0.],\n",
       "       [0., 0., 0., ..., 0., 0., 0.],\n",
       "       [0., 0., 0., ..., 0., 0., 0.]])"
      ]
     },
     "execution_count": 251,
     "metadata": {},
     "output_type": "execute_result"
    }
   ],
   "source": [
    "y_pred_resp1"
   ]
  },
  {
   "cell_type": "code",
   "execution_count": 252,
   "metadata": {},
   "outputs": [],
   "source": [
    "matrix1 = confusion_matrix(y_test.argmax(axis=1), y_pred_resp1.argmax(axis=1))"
   ]
  },
  {
   "cell_type": "code",
   "execution_count": 253,
   "metadata": {},
   "outputs": [
    {
     "data": {
      "text/plain": [
       "array([[307,   0,   0, ...,   0,   0,   0],\n",
       "       [  0, 310,   6, ...,   0,   3,   0],\n",
       "       [  0,   2, 316, ...,   0,   0,   0],\n",
       "       ...,\n",
       "       [  0,   1,   0, ..., 328,   2,   0],\n",
       "       [  0,  20,   0, ...,   4, 292,   0],\n",
       "       [  3,   0,   0, ...,   0,   3, 320]], dtype=int64)"
      ]
     },
     "execution_count": 253,
     "metadata": {},
     "output_type": "execute_result"
    }
   ],
   "source": [
    "matrix1"
   ]
  },
  {
   "cell_type": "code",
   "execution_count": 254,
   "metadata": {},
   "outputs": [
    {
     "data": {
      "image/png": "[encoded data removed]",
      "text/plain": [
       "<Figure size 432x288 with 2 Axes>"
      ]
     },
     "metadata": {
      "needs_background": "light"
     },
     "output_type": "display_data"
    }
   ],
   "source": [
    "cm = matrix1\n",
    "fig = pp.figure()\n",
    "ax = fig.add_subplot(111)\n",
    "cax = ax.matshow(cm)\n",
    "pp.title('Confusion matrix of the classifier')\n",
    "fig.colorbar(cax)\n",
    "ax.set_xticklabels([''] + carpetas)\n",
    "ax.set_yticklabels([''] + carpetas)\n",
    "pp.xlabel('Predicted')\n",
    "pp.ylabel('True')\n",
    "pp.show()"
   ]
  },
  {
   "cell_type": "markdown",
   "metadata": {},
   "source": [
    "# Segundo modelo"
   ]
  },
  {
   "cell_type": "code",
   "execution_count": 255,
   "metadata": {},
   "outputs": [
    {
     "name": "stdout",
     "output_type": "stream",
     "text": [
      "Train on 62560 samples, validate on 15640 samples\n",
      "Epoch 1/5\n",
      "62560/62560 [==============================] - 18s 282us/step - loss: 1.3497 - accuracy: 0.6321 - val_loss: 0.7218 - val_accuracy: 0.7954\n",
      "Epoch 2/5\n",
      "62560/62560 [==============================] - 18s 285us/step - loss: 0.5441 - accuracy: 0.8448 - val_loss: 0.5947 - val_accuracy: 0.8319\n",
      "Epoch 3/5\n",
      "62560/62560 [==============================] - 18s 282us/step - loss: 0.3781 - accuracy: 0.8898 - val_loss: 0.5327 - val_accuracy: 0.8495\n",
      "Epoch 4/5\n",
      "62560/62560 [==============================] - 18s 291us/step - loss: 0.2879 - accuracy: 0.9130 - val_loss: 0.4834 - val_accuracy: 0.8682\n",
      "Epoch 5/5\n",
      "62560/62560 [==============================] - 18s 283us/step - loss: 0.2331 - accuracy: 0.9281 - val_loss: 0.4730 - val_accuracy: 0.8770\n"
     ]
    }
   ],
   "source": [
    "model = Sequential()\n",
    "model.add(Dense(1024, input_dim = 1024, activation = 'relu'))\n",
    "model.add(Dense(20, activation = 'relu'))\n",
    "model.add(Dense(15, activation = 'relu'))\n",
    "model.add(Dense(46, activation = 'softmax'))#Salidas\n",
    "\n",
    "model.compile(loss = 'categorical_crossentropy', optimizer = 'adam', metrics = ['accuracy']) # Precisión\n",
    "historial = model.fit(x_train, y_train, validation_data = (x_test, y_test), epochs = 10, batch_size = 64)"
   ]
  },
  {
   "cell_type": "code",
   "execution_count": 256,
   "metadata": {},
   "outputs": [
    {
     "name": "stdout",
     "output_type": "stream",
     "text": [
      "Precisión:  87.70460358056266\n"
     ]
    }
   ],
   "source": [
    "y_pred2 = model.predict(x_test)\n",
    "\n",
    "pred2 = list()\n",
    "for i in range(len(y_pred2)):\n",
    "    pred2.append(np.argmax(y_pred2[i]))\n",
    "    \n",
    "test2 = list()\n",
    "for i in range(len(y_test)):\n",
    "    test2.append(np.argmax(y_test[i]))\n",
    "    \n",
    "    \n",
    "precision2 = accuracy_score(pred2, test2) # Comparamos lo que predijo la red con las salidas deseadas\n",
    "print('Precisión: ',(precision2*100))"
   ]
  },
  {
   "cell_type": "code",
   "execution_count": 257,
   "metadata": {},
   "outputs": [
    {
     "data": {
      "image/png": "[encoded data removed]",
      "text/plain": [
       "<Figure size 432x288 with 1 Axes>"
      ]
     },
     "metadata": {
      "needs_background": "light"
     },
     "output_type": "display_data"
    }
   ],
   "source": [
    "accuracy2 = historial.history['accuracy']\n",
    "accuracyval2 = historial.history['val_accuracy']\n",
    "pp.plot(historial.history['accuracy'])\n",
    "pp.plot(historial.history['val_accuracy'])\n",
    "pp.title('Precisión de la RNA')\n",
    "pp.ylabel('Precisión')\n",
    "pp.xlabel('Época')\n",
    "pp.legend(['Entrenamiento','Test'], loc='lower right')\n",
    "pp.grid(True)\n",
    "pp.savefig(\"images/model2/accuracy.png\")\n",
    "pp.show()\n"
   ]
  },
  {
   "cell_type": "code",
   "execution_count": 258,
   "metadata": {},
   "outputs": [
    {
     "data": {
      "image/png": "[encoded data removed]",
      "text/plain": [
       "<Figure size 432x288 with 1 Axes>"
      ]
     },
     "metadata": {
      "needs_background": "light"
     },
     "output_type": "display_data"
    }
   ],
   "source": [
    "loss2 = historial.history['loss']\n",
    "lossval2 = historial.history['val_loss']\n",
    "pp.plot(historial.history['loss'])\n",
    "pp.plot(historial.history['val_loss'])\n",
    "pp.title('Loss')\n",
    "pp.ylabel('Loss')\n",
    "pp.xlabel('Época')\n",
    "pp.legend(['Entrenamiento','Test'], loc='upper right')\n",
    "pp.grid(True)\n",
    "pp.savefig(\"images/model2/loss.png\")\n",
    "pp.show()\n"
   ]
  },
  {
   "cell_type": "code",
   "execution_count": 259,
   "metadata": {},
   "outputs": [
    {
     "name": "stdout",
     "output_type": "stream",
     "text": [
      "Saved model to disk\n"
     ]
    }
   ],
   "source": [
    "model.save_weights(\"saved_networks/model_2.h5\")\n",
    "print(\"Saved model to disk\")"
   ]
  },
  {
   "cell_type": "code",
   "execution_count": 260,
   "metadata": {},
   "outputs": [],
   "source": [
    "y_pred_resp2 = encoder.fit_transform( np.array(pred2).reshape(-1,1)).toarray()"
   ]
  },
  {
   "cell_type": "code",
   "execution_count": 261,
   "metadata": {},
   "outputs": [],
   "source": [
    "matrix2 = confusion_matrix(y_test.argmax(axis=1), y_pred_resp2.argmax(axis=1))"
   ]
  },
  {
   "cell_type": "code",
   "execution_count": 262,
   "metadata": {},
   "outputs": [
    {
     "data": {
      "image/png": "[encoded data removed]",
      "text/plain": [
       "<Figure size 432x288 with 2 Axes>"
      ]
     },
     "metadata": {
      "needs_background": "light"
     },
     "output_type": "display_data"
    }
   ],
   "source": [
    "cm = matrix2\n",
    "fig = pp.figure()\n",
    "ax = fig.add_subplot(111)\n",
    "cax = ax.matshow(cm)\n",
    "pp.title('Confusion matrix of the classifier')\n",
    "fig.colorbar(cax)\n",
    "ax.set_xticklabels([''] + carpetas)\n",
    "ax.set_yticklabels([''] + carpetas)\n",
    "pp.xlabel('Predicted')\n",
    "pp.ylabel('True')\n",
    "pp.show()"
   ]
  },
  {
   "cell_type": "markdown",
   "metadata": {},
   "source": [
    "# Tercer Modelo"
   ]
  },
  {
   "cell_type": "code",
   "execution_count": 263,
   "metadata": {},
   "outputs": [
    {
     "name": "stdout",
     "output_type": "stream",
     "text": [
      "Train on 62560 samples, validate on 15640 samples\n",
      "Epoch 1/12\n",
      "62560/62560 [==============================] - 19s 306us/step - loss: 1.5613 - accuracy: 0.5755 - val_loss: 0.8548 - val_accuracy: 0.7609\n",
      "Epoch 2/12\n",
      "62560/62560 [==============================] - 18s 288us/step - loss: 0.6521 - accuracy: 0.8124 - val_loss: 0.6263 - val_accuracy: 0.8190\n",
      "Epoch 3/12\n",
      "62560/62560 [==============================] - 18s 289us/step - loss: 0.4451 - accuracy: 0.8700 - val_loss: 0.5778 - val_accuracy: 0.8368\n",
      "Epoch 4/12\n",
      "62560/62560 [==============================] - 18s 288us/step - loss: 0.3433 - accuracy: 0.8972 - val_loss: 0.5148 - val_accuracy: 0.8593\n",
      "Epoch 5/12\n",
      "62560/62560 [==============================] - 18s 288us/step - loss: 0.2769 - accuracy: 0.9153 - val_loss: 0.5578 - val_accuracy: 0.8533\n",
      "Epoch 6/12\n",
      "62560/62560 [==============================] - 18s 291us/step - loss: 0.2364 - accuracy: 0.9271 - val_loss: 0.5265 - val_accuracy: 0.8656\n",
      "Epoch 7/12\n",
      "62560/62560 [==============================] - 18s 292us/step - loss: 0.1970 - accuracy: 0.9382 - val_loss: 0.5393 - val_accuracy: 0.8731\n",
      "Epoch 8/12\n",
      "62560/62560 [==============================] - 19s 297us/step - loss: 0.1764 - accuracy: 0.9448 - val_loss: 0.5269 - val_accuracy: 0.8733\n",
      "Epoch 9/12\n",
      "62560/62560 [==============================] - 19s 296us/step - loss: 0.1596 - accuracy: 0.9495 - val_loss: 0.6084 - val_accuracy: 0.8672\n",
      "Epoch 10/12\n",
      "62560/62560 [==============================] - 18s 293us/step - loss: 0.1460 - accuracy: 0.9545 - val_loss: 0.5447 - val_accuracy: 0.8799\n",
      "Epoch 11/12\n",
      "62560/62560 [==============================] - 18s 294us/step - loss: 0.1321 - accuracy: 0.9586 - val_loss: 0.5297 - val_accuracy: 0.8871\n",
      "Epoch 12/12\n",
      "62560/62560 [==============================] - 18s 289us/step - loss: 0.1214 - accuracy: 0.9621 - val_loss: 0.5711 - val_accuracy: 0.8775\n"
     ]
    }
   ],
   "source": [
    "model = Sequential()\n",
    "model.add(Dense(1024, input_dim = 1024, activation = 'relu'))\n",
    "model.add(Dense(25, activation = 'relu'))\n",
    "model.add(Dense(15, activation = 'relu'))\n",
    "model.add(Dense(20, activation = 'relu'))\n",
    "model.add(Dense(18, activation = 'relu'))\n",
    "model.add(Dense(46, activation = 'softmax'))#Salidas\n",
    "\n",
    "model.compile(loss = 'categorical_crossentropy', optimizer = 'adam', metrics = ['accuracy']) # Precisión\n",
    "historial = model.fit(x_train, y_train, validation_data = (x_test, y_test), epochs = 12, batch_size = 64)"
   ]
  },
  {
   "cell_type": "code",
   "execution_count": 264,
   "metadata": {},
   "outputs": [
    {
     "name": "stdout",
     "output_type": "stream",
     "text": [
      "Precisión:  87.74936061381075\n"
     ]
    }
   ],
   "source": [
    "y_pred3 = model.predict(x_test)\n",
    "\n",
    "pred3 = list()\n",
    "for i in range(len(y_pred3)):\n",
    "    pred3.append(np.argmax(y_pred3[i]))\n",
    "    \n",
    "test3 = list()\n",
    "for i in range(len(y_test)):\n",
    "    test3.append(np.argmax(y_test[i]))\n",
    "    \n",
    "    \n",
    "precision3 = accuracy_score(pred3, test3) # Comparamos lo que predijo la red con las salidas deseadas\n",
    "print('Precisión: ',(precision3*100))"
   ]
  },
  {
   "cell_type": "code",
   "execution_count": 265,
   "metadata": {},
   "outputs": [
    {
     "data": {
      "image/png": "[encoded data removed]",
      "text/plain": [
       "<Figure size 432x288 with 1 Axes>"
      ]
     },
     "metadata": {
      "needs_background": "light"
     },
     "output_type": "display_data"
    }
   ],
   "source": [
    "accuracy3 = historial.history['accuracy']\n",
    "accuracyval3 = historial.history['val_accuracy']\n",
    "pp.plot(historial.history['accuracy'])\n",
    "pp.plot(historial.history['val_accuracy'])\n",
    "pp.title('Precisión de la RNA')\n",
    "pp.ylabel('Precisión')\n",
    "pp.xlabel('Época')\n",
    "pp.legend(['Entrenamiento','Test'], loc='lower right')\n",
    "pp.grid(True)\n",
    "pp.savefig(\"images/model3/accuracy.png\")\n",
    "pp.show()\n"
   ]
  },
  {
   "cell_type": "code",
   "execution_count": 266,
   "metadata": {},
   "outputs": [
    {
     "data": {
      "image/png": "[encoded data removed]",
      "text/plain": [
       "<Figure size 432x288 with 1 Axes>"
      ]
     },
     "metadata": {
      "needs_background": "light"
     },
     "output_type": "display_data"
    }
   ],
   "source": [
    "loss3 = historial.history['loss']\n",
    "lossval3 = historial.history['val_loss']\n",
    "pp.plot(historial.history['loss'])\n",
    "pp.plot(historial.history['val_loss'])\n",
    "pp.title('Loss')\n",
    "pp.ylabel('Loss')\n",
    "pp.xlabel('Época')\n",
    "pp.legend(['Entrenamiento','Test'], loc='upper right')\n",
    "pp.grid(True)\n",
    "pp.savefig(\"images/model3/loss.png\")\n",
    "pp.show()\n"
   ]
  },
  {
   "cell_type": "code",
   "execution_count": 267,
   "metadata": {},
   "outputs": [
    {
     "name": "stdout",
     "output_type": "stream",
     "text": [
      "Saved model to disk\n"
     ]
    }
   ],
   "source": [
    "model.save_weights(\"saved_networks/model_3.h5\")\n",
    "print(\"Saved model to disk\")"
   ]
  },
  {
   "cell_type": "code",
   "execution_count": 268,
   "metadata": {},
   "outputs": [],
   "source": [
    "y_pred_resp3 = encoder.fit_transform( np.array(pred3).reshape(-1,1)).toarray()"
   ]
  },
  {
   "cell_type": "code",
   "execution_count": 269,
   "metadata": {},
   "outputs": [],
   "source": [
    "matrix3 = confusion_matrix(y_test.argmax(axis=1), y_pred_resp3.argmax(axis=1))"
   ]
  },
  {
   "cell_type": "code",
   "execution_count": 270,
   "metadata": {},
   "outputs": [
    {
     "data": {
      "image/png": "[encoded data removed]",
      "text/plain": [
       "<Figure size 432x288 with 2 Axes>"
      ]
     },
     "metadata": {
      "needs_background": "light"
     },
     "output_type": "display_data"
    }
   ],
   "source": [
    "cm = matrix3\n",
    "fig = pp.figure()\n",
    "ax = fig.add_subplot(111)\n",
    "cax = ax.matshow(cm)\n",
    "pp.title('Confusion matrix of the classifier')\n",
    "fig.colorbar(cax)\n",
    "ax.set_xticklabels([''] + carpetas)\n",
    "ax.set_yticklabels([''] + carpetas)\n",
    "pp.xlabel('Predicted')\n",
    "pp.ylabel('True')\n",
    "pp.show()"
   ]
  },
  {
   "cell_type": "markdown",
   "metadata": {},
   "source": [
    "# Generacion de grafica para reporte"
   ]
  },
  {
   "cell_type": "code",
   "execution_count": 280,
   "metadata": {},
   "outputs": [
    {
     "data": {
      "image/png": "[encoded data removed]",
      "text/plain": [
       "<Figure size 432x288 with 1 Axes>"
      ]
     },
     "metadata": {
      "needs_background": "light"
     },
     "output_type": "display_data"
    }
   ],
   "source": [
    "pp.plot(loss1)\n",
    "pp.plot(lossval1)\n",
    "pp.plot(loss2)\n",
    "pp.plot(lossval2)\n",
    "pp.plot(loss3)\n",
    "pp.plot(lossval3)\n",
    "pp.plot(accuracy1)\n",
    "pp.plot(accuracyval1)\n",
    "pp.plot(accuracy2)\n",
    "pp.plot(accuracyval2)\n",
    "pp.plot(accuracy2)\n",
    "pp.plot(accuracyval2)\n",
    "pp.title('Comparacion de modelos [accuracy - loss]')\n",
    "pp.ylabel('Accuracy & Loss')\n",
    "pp.xlabel('Época')\n",
    "pp.legend(['EntrenamientoLoss1','TestLoss1','EntrenamientoLoss2','TesLoss2','EntrenamientoLoss3','TestLoss3',\\\n",
    "          'EntrenamientoAcc1','TestAcc1','EntrenamientoAcc2','TesAcc2','EntrenamientoAcc3','TestAcc3'], loc='upper center')\n",
    "pp.grid(True)\n",
    "pp.savefig(\"images/comparacion.png\")\n",
    "pp.show()"
   ]
  },
  {
   "cell_type": "markdown",
   "metadata": {},
   "source": [
    "# Generacion de reporte"
   ]
  },
  {
   "cell_type": "code",
   "execution_count": 281,
   "metadata": {},
   "outputs": [],
   "source": [
    "from reportlab.lib.pagesizes import A4\n",
    "from reportlab.pdfgen import canvas\n",
    "from reportlab.platypus import (SimpleDocTemplate, Paragraph, PageBreak)"
   ]
  },
  {
   "cell_type": "code",
   "execution_count": 282,
   "metadata": {},
   "outputs": [],
   "source": [
    "w, h = A4\n",
    "c = canvas.Canvas(\"reports/reporte.pdf\", pagesize=A4)\n",
    "\n",
    "t_images= 250\n",
    "\n",
    "text = c.beginText(200,h - 25)\n",
    "text.setFont('Times-Bold',17)\n",
    "text.textLines('Proyecto Interciclo IA II')\n",
    "c.drawText(text)\n",
    "\n",
    "text = c.beginText(80,h - 60)\n",
    "text.setFont('Times-Roman',12)\n",
    "text.textLines('Hernan Leon, Oscar Pizarro')\n",
    "c.drawText(text)\n",
    "\n",
    "text = c.beginText(15,h - 60)\n",
    "text.setFont('Times-Bold',12)\n",
    "text.textLines('Integrantes: ')\n",
    "c.drawText(text)\n",
    "\n",
    "text = c.beginText(15,h - 80)\n",
    "text.setFont('Times-Bold',12)\n",
    "text.textLines('Fecha: ')\n",
    "c.drawText(text)\n",
    "\n",
    "\n",
    "text = c.beginText(55,h - 80)\n",
    "text.setFont('Times-Roman',12)\n",
    "text.textLines('14-06-2020')\n",
    "c.drawText(text)\n",
    "\n",
    "\n",
    "\n",
    "text = c.beginText(230,h - 130)\n",
    "text.setFont('Times-Bold',15)\n",
    "text.textLines('Reporte de Resultados')\n",
    "c.drawText(text)\n",
    "\n",
    "###Titulo Grafica Acuracy losss de los modelos\n",
    "cadena = \"Graficas de Accuracy y Loss de los modelos\"\n",
    "text = c.beginText(180, h-160)\n",
    "text.setFont(\"Helvetica-Bold\", 14)\n",
    "text.textLines(cadena)\n",
    "c.drawText(text)\n",
    "##Accurracy modelo 1\n",
    "cadena = \"Graficas de Accuracy - Modelo1\"\n",
    "text = c.beginText(90, h-190)\n",
    "text.setFont(\"Helvetica-Bold\", 12)\n",
    "text.textLines(cadena)\n",
    "c.drawText(text)\n",
    "c.drawImage(\"images/model1/accuracy.png\", 50,400, width=t_images, height=t_images)\n",
    "\n",
    "##Accurracy modelo 2\n",
    "cadena = \"Graficas de Accuracy - Modelo2\"\n",
    "text = c.beginText(90, h-450)\n",
    "text.setFont(\"Helvetica-Bold\", 12)\n",
    "text.textLines(cadena)\n",
    "c.drawText(text)\n",
    "c.drawImage(\"images/model2/accuracy.png\", 50,140, width=t_images, height=t_images)\n",
    "\n",
    "##Loss modelo 1\n",
    "cadena = \"Graficas de Loss - Modelo1\"\n",
    "text = c.beginText(350, h-190)\n",
    "text.setFont(\"Helvetica-Bold\", 12)\n",
    "text.textLines(cadena)\n",
    "c.drawText(text)\n",
    "c.drawImage(\"images/model1/loss.png\", 300, 400, width= t_images, height= t_images)\n",
    "\n",
    "##Loss modelo 2\n",
    "cadena = \"Graficas de Loss - Modelo2\"\n",
    "text = c.beginText(350, h-450)\n",
    "text.setFont(\"Helvetica-Bold\", 12)\n",
    "text.textLines(cadena)\n",
    "c.drawText(text)\n",
    "c.drawImage(\"images/model2/loss.png\", 300, 140, width= t_images, height= t_images)\n",
    "#c.drawImage(\"images/model2/loss.png\", 50, h - 200, width= t_images, height= t_images)\n",
    "#c.drawImage(\"images/model3/accuracy.png\", 50, h - 200, width= t_images, height= t_images)\n",
    "#c.drawImage(\"images/model3/loss.png\", 50, h - 200, width= t_images, height= t_images)\n",
    "\n",
    "#canvas.drawString(50, h - 50, \"¡Hola, mundo!\")\n",
    "c.showPage()#termina la primera pagina\n",
    "\n",
    "###Titulo Grafica Acuracy losss de los modelos\n",
    "cadena = \"Graficas de Accuracy y Loss de los modelos\"\n",
    "text = c.beginText(180, h-160)\n",
    "text.setFont(\"Helvetica-Bold\", 14)\n",
    "text.textLines(cadena)\n",
    "c.drawText(text)\n",
    "\n",
    "##Accurracy modelo 3\n",
    "cadena = \"Graficas de Accuracy - Modelo3\"\n",
    "text = c.beginText(90, h-190)\n",
    "text.setFont(\"Helvetica-Bold\", 12)\n",
    "text.textLines(cadena)\n",
    "c.drawText(text)\n",
    "c.drawImage(\"images/model3/accuracy.png\", 50,400, width=t_images, height=t_images)\n",
    "\n",
    "##Loss modelo 3\n",
    "cadena = \"Graficas de Loss - Modelo3\"\n",
    "text = c.beginText(350, h-190)\n",
    "text.setFont(\"Helvetica-Bold\", 12)\n",
    "text.textLines(cadena)\n",
    "c.drawText(text)\n",
    "c.drawImage(\"images/model3/loss.png\", 300, 400, width= t_images, height= t_images)\n",
    "\n",
    "\n",
    "###Titulo Grafica Acuracy losss de los modelos\n",
    "cadena = \"Grafica de comparacion\\n   Accurracy & Loss\"\n",
    "text = c.beginText(180, h-480)\n",
    "text.setFont(\"Courier-Bold\", 16)\n",
    "text.textLines(cadena)\n",
    "c.drawText(text)\n",
    "\n",
    "\n",
    "##Grafica comparacion\n",
    "c.drawImage(\"images/comparacion.png\", 100, 40, width= 400, height= 300)\n",
    "\n",
    "\n",
    "\n",
    "c.showPage()\n",
    "c.save()"
   ]
  },
  {
   "cell_type": "code",
   "execution_count": null,
   "metadata": {},
   "outputs": [],
   "source": []
  }
 ],
 "metadata": {
  "kernelspec": {
   "display_name": "Python 3",
   "language": "python",
   "name": "python3"
  },
  "language_info": {
   "codemirror_mode": {
    "name": "ipython",
    "version": 3
   },
   "file_extension": ".py",
   "mimetype": "text/x-python",
   "name": "python",
   "nbconvert_exporter": "python",
   "pygments_lexer": "ipython3",
   "version": "3.7.6"
  }
 },
 "nbformat": 4,
 "nbformat_minor": 4
}
